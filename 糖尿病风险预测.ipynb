{
 "cells": [
  {
   "cell_type": "markdown",
   "metadata": {},
   "source": [
    "# 任务一：读取数据，查看字段类型"
   ]
  },
  {
   "cell_type": "code",
   "execution_count": 1,
   "metadata": {},
   "outputs": [],
   "source": [
    "#import packages\n",
    "import numpy as np # linear algebra\n",
    "import pandas as pd # data processing, CSV file I/O (e.g. pd.read_csv)\n",
    "import matplotlib.pyplot as plt # data visualization\n",
    "import seaborn as sns # statistical data visualization\n",
    "%matplotlib inline\n",
    "\n",
    "from sklearn.tree import DecisionTreeRegressor\n",
    "from pandas import Series,DataFrame \n",
    "import category_encoders as ce"
   ]
  },
  {
   "cell_type": "code",
   "execution_count": 2,
   "metadata": {},
   "outputs": [
    {
     "data": {
      "text/html": [
       "<div>\n",
       "<style scoped>\n",
       "    .dataframe tbody tr th:only-of-type {\n",
       "        vertical-align: middle;\n",
       "    }\n",
       "\n",
       "    .dataframe tbody tr th {\n",
       "        vertical-align: top;\n",
       "    }\n",
       "\n",
       "    .dataframe thead th {\n",
       "        text-align: right;\n",
       "    }\n",
       "</style>\n",
       "<table border=\"1\" class=\"dataframe\">\n",
       "  <thead>\n",
       "    <tr style=\"text-align: right;\">\n",
       "      <th></th>\n",
       "      <th>编号</th>\n",
       "      <th>性别</th>\n",
       "      <th>出生年份</th>\n",
       "      <th>体重指数</th>\n",
       "      <th>糖尿病家族史</th>\n",
       "      <th>舒张压</th>\n",
       "      <th>口服耐糖量测试</th>\n",
       "      <th>胰岛素释放实验</th>\n",
       "      <th>肱三头肌皮褶厚度</th>\n",
       "      <th>患有糖尿病标识</th>\n",
       "    </tr>\n",
       "  </thead>\n",
       "  <tbody>\n",
       "    <tr>\n",
       "      <th>0</th>\n",
       "      <td>1</td>\n",
       "      <td>0</td>\n",
       "      <td>1996</td>\n",
       "      <td>30.1</td>\n",
       "      <td>无记录</td>\n",
       "      <td>106.0</td>\n",
       "      <td>3.818</td>\n",
       "      <td>7.89</td>\n",
       "      <td>0.0</td>\n",
       "      <td>0</td>\n",
       "    </tr>\n",
       "    <tr>\n",
       "      <th>1</th>\n",
       "      <td>2</td>\n",
       "      <td>0</td>\n",
       "      <td>1988</td>\n",
       "      <td>27.5</td>\n",
       "      <td>无记录</td>\n",
       "      <td>84.0</td>\n",
       "      <td>-1.000</td>\n",
       "      <td>0.00</td>\n",
       "      <td>14.7</td>\n",
       "      <td>0</td>\n",
       "    </tr>\n",
       "    <tr>\n",
       "      <th>2</th>\n",
       "      <td>3</td>\n",
       "      <td>1</td>\n",
       "      <td>1988</td>\n",
       "      <td>36.5</td>\n",
       "      <td>无记录</td>\n",
       "      <td>85.0</td>\n",
       "      <td>7.131</td>\n",
       "      <td>0.00</td>\n",
       "      <td>40.1</td>\n",
       "      <td>1</td>\n",
       "    </tr>\n",
       "    <tr>\n",
       "      <th>3</th>\n",
       "      <td>4</td>\n",
       "      <td>1</td>\n",
       "      <td>1992</td>\n",
       "      <td>29.5</td>\n",
       "      <td>无记录</td>\n",
       "      <td>91.0</td>\n",
       "      <td>7.041</td>\n",
       "      <td>0.00</td>\n",
       "      <td>0.0</td>\n",
       "      <td>0</td>\n",
       "    </tr>\n",
       "    <tr>\n",
       "      <th>4</th>\n",
       "      <td>5</td>\n",
       "      <td>0</td>\n",
       "      <td>1998</td>\n",
       "      <td>42.0</td>\n",
       "      <td>叔叔或者姑姑有一方患有糖尿病</td>\n",
       "      <td>NaN</td>\n",
       "      <td>7.134</td>\n",
       "      <td>0.00</td>\n",
       "      <td>0.0</td>\n",
       "      <td>1</td>\n",
       "    </tr>\n",
       "  </tbody>\n",
       "</table>\n",
       "</div>"
      ],
      "text/plain": [
       "   编号  性别  出生年份  体重指数          糖尿病家族史    舒张压  口服耐糖量测试  胰岛素释放实验  肱三头肌皮褶厚度  \\\n",
       "0   1   0  1996  30.1             无记录  106.0    3.818     7.89       0.0   \n",
       "1   2   0  1988  27.5             无记录   84.0   -1.000     0.00      14.7   \n",
       "2   3   1  1988  36.5             无记录   85.0    7.131     0.00      40.1   \n",
       "3   4   1  1992  29.5             无记录   91.0    7.041     0.00       0.0   \n",
       "4   5   0  1998  42.0  叔叔或者姑姑有一方患有糖尿病    NaN    7.134     0.00       0.0   \n",
       "\n",
       "   患有糖尿病标识  \n",
       "0        0  \n",
       "1        0  \n",
       "2        1  \n",
       "3        0  \n",
       "4        1  "
      ]
     },
     "execution_count": 2,
     "metadata": {},
     "output_type": "execute_result"
    }
   ],
   "source": [
    "#%% 导入训练集数据并查看前5行\n",
    "train_df = pd.read_csv(\"E:/学习/2021-2022学年学习文件/研一下课程文件/Python编程项目/糖尿病遗传风险预测挑战赛公开数据/比赛训练集.csv\",engine='python',encoding='gbk')\n",
    "train_df.head()"
   ]
  },
  {
   "cell_type": "code",
   "execution_count": 3,
   "metadata": {},
   "outputs": [
    {
     "data": {
      "text/html": [
       "<div>\n",
       "<style scoped>\n",
       "    .dataframe tbody tr th:only-of-type {\n",
       "        vertical-align: middle;\n",
       "    }\n",
       "\n",
       "    .dataframe tbody tr th {\n",
       "        vertical-align: top;\n",
       "    }\n",
       "\n",
       "    .dataframe thead th {\n",
       "        text-align: right;\n",
       "    }\n",
       "</style>\n",
       "<table border=\"1\" class=\"dataframe\">\n",
       "  <thead>\n",
       "    <tr style=\"text-align: right;\">\n",
       "      <th></th>\n",
       "      <th>编号</th>\n",
       "      <th>性别</th>\n",
       "      <th>出生年份</th>\n",
       "      <th>体重指数</th>\n",
       "      <th>糖尿病家族史</th>\n",
       "      <th>舒张压</th>\n",
       "      <th>口服耐糖量测试</th>\n",
       "      <th>胰岛素释放实验</th>\n",
       "      <th>肱三头肌皮褶厚度</th>\n",
       "    </tr>\n",
       "  </thead>\n",
       "  <tbody>\n",
       "    <tr>\n",
       "      <th>0</th>\n",
       "      <td>1</td>\n",
       "      <td>0</td>\n",
       "      <td>1987</td>\n",
       "      <td>33.1</td>\n",
       "      <td>无记录</td>\n",
       "      <td>72.0</td>\n",
       "      <td>6.586</td>\n",
       "      <td>24.16</td>\n",
       "      <td>2.94</td>\n",
       "    </tr>\n",
       "    <tr>\n",
       "      <th>1</th>\n",
       "      <td>2</td>\n",
       "      <td>0</td>\n",
       "      <td>1998</td>\n",
       "      <td>20.6</td>\n",
       "      <td>叔叔或者姑姑有一方患有糖尿病</td>\n",
       "      <td>68.0</td>\n",
       "      <td>3.861</td>\n",
       "      <td>0.00</td>\n",
       "      <td>0.00</td>\n",
       "    </tr>\n",
       "    <tr>\n",
       "      <th>2</th>\n",
       "      <td>3</td>\n",
       "      <td>1</td>\n",
       "      <td>1979</td>\n",
       "      <td>42.1</td>\n",
       "      <td>无记录</td>\n",
       "      <td>98.0</td>\n",
       "      <td>5.713</td>\n",
       "      <td>0.00</td>\n",
       "      <td>3.53</td>\n",
       "    </tr>\n",
       "    <tr>\n",
       "      <th>3</th>\n",
       "      <td>4</td>\n",
       "      <td>0</td>\n",
       "      <td>1999</td>\n",
       "      <td>34.6</td>\n",
       "      <td>无记录</td>\n",
       "      <td>66.0</td>\n",
       "      <td>4.684</td>\n",
       "      <td>0.00</td>\n",
       "      <td>3.14</td>\n",
       "    </tr>\n",
       "    <tr>\n",
       "      <th>4</th>\n",
       "      <td>5</td>\n",
       "      <td>0</td>\n",
       "      <td>1997</td>\n",
       "      <td>27.7</td>\n",
       "      <td>无记录</td>\n",
       "      <td>89.0</td>\n",
       "      <td>7.948</td>\n",
       "      <td>14.65</td>\n",
       "      <td>2.65</td>\n",
       "    </tr>\n",
       "  </tbody>\n",
       "</table>\n",
       "</div>"
      ],
      "text/plain": [
       "   编号  性别  出生年份  体重指数          糖尿病家族史   舒张压  口服耐糖量测试  胰岛素释放实验  肱三头肌皮褶厚度\n",
       "0   1   0  1987  33.1             无记录  72.0    6.586    24.16      2.94\n",
       "1   2   0  1998  20.6  叔叔或者姑姑有一方患有糖尿病  68.0    3.861     0.00      0.00\n",
       "2   3   1  1979  42.1             无记录  98.0    5.713     0.00      3.53\n",
       "3   4   0  1999  34.6             无记录  66.0    4.684     0.00      3.14\n",
       "4   5   0  1997  27.7             无记录  89.0    7.948    14.65      2.65"
      ]
     },
     "execution_count": 3,
     "metadata": {},
     "output_type": "execute_result"
    }
   ],
   "source": [
    "#%% 导入测试集数据并查看前5行\n",
    "test_df = pd.read_csv(\"E:/学习/2021-2022学年学习文件/研一下课程文件/Python编程项目/糖尿病遗传风险预测挑战赛公开数据/比赛测试集.csv\",engine='python',encoding='gbk')\n",
    "test_df.head()"
   ]
  },
  {
   "cell_type": "code",
   "execution_count": 4,
   "metadata": {},
   "outputs": [
    {
     "data": {
      "text/plain": [
       "Index(['编号', '性别', '出生年份', '体重指数', '糖尿病家族史', '舒张压', '口服耐糖量测试', '胰岛素释放实验',\n",
       "       '肱三头肌皮褶厚度', '患有糖尿病标识'],\n",
       "      dtype='object')"
      ]
     },
     "execution_count": 4,
     "metadata": {},
     "output_type": "execute_result"
    }
   ],
   "source": [
    "train_df.columns"
   ]
  },
  {
   "cell_type": "code",
   "execution_count": 5,
   "metadata": {},
   "outputs": [
    {
     "data": {
      "text/plain": [
       "Index(['编号', '性别', '出生年份', '体重指数', '糖尿病家族史', '舒张压', '口服耐糖量测试', '胰岛素释放实验',\n",
       "       '肱三头肌皮褶厚度'],\n",
       "      dtype='object')"
      ]
     },
     "execution_count": 5,
     "metadata": {},
     "output_type": "execute_result"
    }
   ],
   "source": [
    "test_df.columns"
   ]
  },
  {
   "cell_type": "code",
   "execution_count": 6,
   "metadata": {},
   "outputs": [
    {
     "data": {
      "text/plain": [
       "(5070, 10)"
      ]
     },
     "execution_count": 6,
     "metadata": {},
     "output_type": "execute_result"
    }
   ],
   "source": [
    "train_df.shape"
   ]
  },
  {
   "cell_type": "code",
   "execution_count": 7,
   "metadata": {},
   "outputs": [
    {
     "data": {
      "text/plain": [
       "(1000, 9)"
      ]
     },
     "execution_count": 7,
     "metadata": {},
     "output_type": "execute_result"
    }
   ],
   "source": [
    "test_df.shape"
   ]
  },
  {
   "cell_type": "code",
   "execution_count": 8,
   "metadata": {},
   "outputs": [
    {
     "name": "stdout",
     "output_type": "stream",
     "text": [
      "<class 'pandas.core.frame.DataFrame'>\n",
      "RangeIndex: 5070 entries, 0 to 5069\n",
      "Data columns (total 10 columns):\n",
      " #   Column    Non-Null Count  Dtype  \n",
      "---  ------    --------------  -----  \n",
      " 0   编号        5070 non-null   int64  \n",
      " 1   性别        5070 non-null   int64  \n",
      " 2   出生年份      5070 non-null   int64  \n",
      " 3   体重指数      5070 non-null   float64\n",
      " 4   糖尿病家族史    5070 non-null   object \n",
      " 5   舒张压       4823 non-null   float64\n",
      " 6   口服耐糖量测试   5070 non-null   float64\n",
      " 7   胰岛素释放实验   5070 non-null   float64\n",
      " 8   肱三头肌皮褶厚度  5070 non-null   float64\n",
      " 9   患有糖尿病标识   5070 non-null   int64  \n",
      "dtypes: float64(5), int64(4), object(1)\n",
      "memory usage: 396.2+ KB\n"
     ]
    }
   ],
   "source": [
    "train_df.info()"
   ]
  },
  {
   "cell_type": "code",
   "execution_count": 9,
   "metadata": {},
   "outputs": [
    {
     "name": "stdout",
     "output_type": "stream",
     "text": [
      "<class 'pandas.core.frame.DataFrame'>\n",
      "RangeIndex: 1000 entries, 0 to 999\n",
      "Data columns (total 9 columns):\n",
      " #   Column    Non-Null Count  Dtype  \n",
      "---  ------    --------------  -----  \n",
      " 0   编号        1000 non-null   int64  \n",
      " 1   性别        1000 non-null   int64  \n",
      " 2   出生年份      1000 non-null   int64  \n",
      " 3   体重指数      1000 non-null   float64\n",
      " 4   糖尿病家族史    1000 non-null   object \n",
      " 5   舒张压       951 non-null    float64\n",
      " 6   口服耐糖量测试   1000 non-null   float64\n",
      " 7   胰岛素释放实验   1000 non-null   float64\n",
      " 8   肱三头肌皮褶厚度  1000 non-null   float64\n",
      "dtypes: float64(5), int64(3), object(1)\n",
      "memory usage: 70.4+ KB\n"
     ]
    }
   ],
   "source": [
    "test_df.info()"
   ]
  },
  {
   "cell_type": "markdown",
   "metadata": {},
   "source": [
    "# 任务二：比赛数据分析"
   ]
  },
  {
   "cell_type": "markdown",
   "metadata": {},
   "source": [
    "## 步骤1：统计数据缺失值，计算缺失比例"
   ]
  },
  {
   "cell_type": "code",
   "execution_count": 10,
   "metadata": {},
   "outputs": [
    {
     "data": {
      "text/plain": [
       "编号          0.000000\n",
       "性别          0.000000\n",
       "出生年份        0.000000\n",
       "体重指数        0.000000\n",
       "糖尿病家族史      0.000000\n",
       "舒张压         4.871795\n",
       "口服耐糖量测试     0.000000\n",
       "胰岛素释放实验     0.000000\n",
       "肱三头肌皮褶厚度    0.000000\n",
       "患有糖尿病标识     0.000000\n",
       "dtype: float64"
      ]
     },
     "execution_count": 10,
     "metadata": {},
     "output_type": "execute_result"
    }
   ],
   "source": [
    "#缺失值统计\n",
    "def missing_value_summary(dataframe):\n",
    "    \"\"\"返回每一列缺失值对应的比例\"\"\"\n",
    "    return dataframe.isna().sum() / dataframe.shape[0] * 100\n",
    "missing_value_summary(train_df)"
   ]
  },
  {
   "cell_type": "markdown",
   "metadata": {},
   "source": [
    "由结果可知，训练集中，变量“舒张压”有247个样本缺失，占比约为4.9%，其余变量无缺失值"
   ]
  },
  {
   "cell_type": "code",
   "execution_count": 11,
   "metadata": {},
   "outputs": [
    {
     "data": {
      "text/plain": [
       "编号          0.0\n",
       "性别          0.0\n",
       "出生年份        0.0\n",
       "体重指数        0.0\n",
       "糖尿病家族史      0.0\n",
       "舒张压         4.9\n",
       "口服耐糖量测试     0.0\n",
       "胰岛素释放实验     0.0\n",
       "肱三头肌皮褶厚度    0.0\n",
       "dtype: float64"
      ]
     },
     "execution_count": 11,
     "metadata": {},
     "output_type": "execute_result"
    }
   ],
   "source": [
    "#缺失值统计\n",
    "missing_value_summary(test_df)"
   ]
  },
  {
   "cell_type": "markdown",
   "metadata": {},
   "source": [
    "由结果可知，测试集中，变量“舒张压”有49个样本缺失，占比为4.9%，其余变量无缺失值"
   ]
  },
  {
   "cell_type": "markdown",
   "metadata": {},
   "source": [
    "## 步骤2：分析字段类型"
   ]
  },
  {
   "cell_type": "code",
   "execution_count": 12,
   "metadata": {},
   "outputs": [
    {
     "data": {
      "text/html": [
       "<div>\n",
       "<style scoped>\n",
       "    .dataframe tbody tr th:only-of-type {\n",
       "        vertical-align: middle;\n",
       "    }\n",
       "\n",
       "    .dataframe tbody tr th {\n",
       "        vertical-align: top;\n",
       "    }\n",
       "\n",
       "    .dataframe thead th {\n",
       "        text-align: right;\n",
       "    }\n",
       "</style>\n",
       "<table border=\"1\" class=\"dataframe\">\n",
       "  <thead>\n",
       "    <tr style=\"text-align: right;\">\n",
       "      <th></th>\n",
       "      <th>编号</th>\n",
       "      <th>性别</th>\n",
       "      <th>出生年份</th>\n",
       "      <th>体重指数</th>\n",
       "      <th>糖尿病家族史</th>\n",
       "      <th>舒张压</th>\n",
       "      <th>口服耐糖量测试</th>\n",
       "      <th>胰岛素释放实验</th>\n",
       "      <th>肱三头肌皮褶厚度</th>\n",
       "      <th>患有糖尿病标识</th>\n",
       "    </tr>\n",
       "  </thead>\n",
       "  <tbody>\n",
       "    <tr>\n",
       "      <th>0</th>\n",
       "      <td>1</td>\n",
       "      <td>0</td>\n",
       "      <td>1996</td>\n",
       "      <td>30.1</td>\n",
       "      <td>无记录</td>\n",
       "      <td>106.0</td>\n",
       "      <td>3.818</td>\n",
       "      <td>7.89</td>\n",
       "      <td>0.0</td>\n",
       "      <td>0</td>\n",
       "    </tr>\n",
       "    <tr>\n",
       "      <th>1</th>\n",
       "      <td>2</td>\n",
       "      <td>0</td>\n",
       "      <td>1988</td>\n",
       "      <td>27.5</td>\n",
       "      <td>无记录</td>\n",
       "      <td>84.0</td>\n",
       "      <td>-1.000</td>\n",
       "      <td>0.00</td>\n",
       "      <td>14.7</td>\n",
       "      <td>0</td>\n",
       "    </tr>\n",
       "    <tr>\n",
       "      <th>2</th>\n",
       "      <td>3</td>\n",
       "      <td>1</td>\n",
       "      <td>1988</td>\n",
       "      <td>36.5</td>\n",
       "      <td>无记录</td>\n",
       "      <td>85.0</td>\n",
       "      <td>7.131</td>\n",
       "      <td>0.00</td>\n",
       "      <td>40.1</td>\n",
       "      <td>1</td>\n",
       "    </tr>\n",
       "    <tr>\n",
       "      <th>3</th>\n",
       "      <td>4</td>\n",
       "      <td>1</td>\n",
       "      <td>1992</td>\n",
       "      <td>29.5</td>\n",
       "      <td>无记录</td>\n",
       "      <td>91.0</td>\n",
       "      <td>7.041</td>\n",
       "      <td>0.00</td>\n",
       "      <td>0.0</td>\n",
       "      <td>0</td>\n",
       "    </tr>\n",
       "    <tr>\n",
       "      <th>4</th>\n",
       "      <td>5</td>\n",
       "      <td>0</td>\n",
       "      <td>1998</td>\n",
       "      <td>42.0</td>\n",
       "      <td>叔叔或者姑姑有一方患有糖尿病</td>\n",
       "      <td>NaN</td>\n",
       "      <td>7.134</td>\n",
       "      <td>0.00</td>\n",
       "      <td>0.0</td>\n",
       "      <td>1</td>\n",
       "    </tr>\n",
       "  </tbody>\n",
       "</table>\n",
       "</div>"
      ],
      "text/plain": [
       "   编号  性别  出生年份  体重指数          糖尿病家族史    舒张压  口服耐糖量测试  胰岛素释放实验  肱三头肌皮褶厚度  \\\n",
       "0   1   0  1996  30.1             无记录  106.0    3.818     7.89       0.0   \n",
       "1   2   0  1988  27.5             无记录   84.0   -1.000     0.00      14.7   \n",
       "2   3   1  1988  36.5             无记录   85.0    7.131     0.00      40.1   \n",
       "3   4   1  1992  29.5             无记录   91.0    7.041     0.00       0.0   \n",
       "4   5   0  1998  42.0  叔叔或者姑姑有一方患有糖尿病    NaN    7.134     0.00       0.0   \n",
       "\n",
       "   患有糖尿病标识  \n",
       "0        0  \n",
       "1        0  \n",
       "2        1  \n",
       "3        0  \n",
       "4        1  "
      ]
     },
     "execution_count": 12,
     "metadata": {},
     "output_type": "execute_result"
    }
   ],
   "source": [
    "#结合变量实际含义分析字段类型\n",
    "train_df.head()"
   ]
  },
  {
   "cell_type": "markdown",
   "metadata": {},
   "source": [
    "数值型变量：体重指数，舒张压，口服耐糖量测试，胰岛素释放实验，肱三头肌皮褶厚度，出生年份\n",
    "类别型变量：性别，糖尿病家族史，患有糖尿病标识"
   ]
  },
  {
   "cell_type": "code",
   "execution_count": 13,
   "metadata": {},
   "outputs": [
    {
     "data": {
      "text/plain": [
       "编号          0.0\n",
       "性别          0.0\n",
       "出生年份        0.0\n",
       "体重指数        0.0\n",
       "糖尿病家族史      0.0\n",
       "舒张压         0.0\n",
       "口服耐糖量测试     0.0\n",
       "胰岛素释放实验     0.0\n",
       "肱三头肌皮褶厚度    0.0\n",
       "dtype: float64"
      ]
     },
     "execution_count": 13,
     "metadata": {},
     "output_type": "execute_result"
    }
   ],
   "source": [
    "#缺失值处理：使用均值填充\n",
    "train_df['舒张压'] =  train_df['舒张压'].fillna(train_df['舒张压'].mean())\n",
    "test_df['舒张压'] =  test_df['舒张压'].fillna(test_df['舒张压'].mean())\n",
    "missing_value_summary(train_df)\n",
    "missing_value_summary(test_df)"
   ]
  },
  {
   "cell_type": "code",
   "execution_count": 14,
   "metadata": {},
   "outputs": [],
   "source": [
    "#将“出生年份”转化为“年龄”\n",
    "train_df['年龄'] = 2022 - train_df['出生年份']\n",
    "test_df['年龄'] = 2022 - test_df['出生年份']"
   ]
  },
  {
   "cell_type": "code",
   "execution_count": 15,
   "metadata": {},
   "outputs": [],
   "source": [
    "#删去“编号”列和“出生年份”列\n",
    "train_df = train_df.drop(['编号','出生年份'],axis=1)\n",
    "test_df = test_df.drop(['编号','出生年份'],axis=1)"
   ]
  },
  {
   "cell_type": "code",
   "execution_count": 16,
   "metadata": {},
   "outputs": [
    {
     "data": {
      "text/html": [
       "<div>\n",
       "<style scoped>\n",
       "    .dataframe tbody tr th:only-of-type {\n",
       "        vertical-align: middle;\n",
       "    }\n",
       "\n",
       "    .dataframe tbody tr th {\n",
       "        vertical-align: top;\n",
       "    }\n",
       "\n",
       "    .dataframe thead th {\n",
       "        text-align: right;\n",
       "    }\n",
       "</style>\n",
       "<table border=\"1\" class=\"dataframe\">\n",
       "  <thead>\n",
       "    <tr style=\"text-align: right;\">\n",
       "      <th></th>\n",
       "      <th>性别</th>\n",
       "      <th>体重指数</th>\n",
       "      <th>糖尿病家族史</th>\n",
       "      <th>舒张压</th>\n",
       "      <th>口服耐糖量测试</th>\n",
       "      <th>胰岛素释放实验</th>\n",
       "      <th>肱三头肌皮褶厚度</th>\n",
       "      <th>患有糖尿病标识</th>\n",
       "      <th>年龄</th>\n",
       "    </tr>\n",
       "  </thead>\n",
       "  <tbody>\n",
       "    <tr>\n",
       "      <th>0</th>\n",
       "      <td>0</td>\n",
       "      <td>30.1</td>\n",
       "      <td>无记录</td>\n",
       "      <td>106.000000</td>\n",
       "      <td>3.818</td>\n",
       "      <td>7.89</td>\n",
       "      <td>0.0</td>\n",
       "      <td>0</td>\n",
       "      <td>26</td>\n",
       "    </tr>\n",
       "    <tr>\n",
       "      <th>1</th>\n",
       "      <td>0</td>\n",
       "      <td>27.5</td>\n",
       "      <td>无记录</td>\n",
       "      <td>84.000000</td>\n",
       "      <td>-1.000</td>\n",
       "      <td>0.00</td>\n",
       "      <td>14.7</td>\n",
       "      <td>0</td>\n",
       "      <td>34</td>\n",
       "    </tr>\n",
       "    <tr>\n",
       "      <th>2</th>\n",
       "      <td>1</td>\n",
       "      <td>36.5</td>\n",
       "      <td>无记录</td>\n",
       "      <td>85.000000</td>\n",
       "      <td>7.131</td>\n",
       "      <td>0.00</td>\n",
       "      <td>40.1</td>\n",
       "      <td>1</td>\n",
       "      <td>34</td>\n",
       "    </tr>\n",
       "    <tr>\n",
       "      <th>3</th>\n",
       "      <td>1</td>\n",
       "      <td>29.5</td>\n",
       "      <td>无记录</td>\n",
       "      <td>91.000000</td>\n",
       "      <td>7.041</td>\n",
       "      <td>0.00</td>\n",
       "      <td>0.0</td>\n",
       "      <td>0</td>\n",
       "      <td>30</td>\n",
       "    </tr>\n",
       "    <tr>\n",
       "      <th>4</th>\n",
       "      <td>0</td>\n",
       "      <td>42.0</td>\n",
       "      <td>叔叔或者姑姑有一方患有糖尿病</td>\n",
       "      <td>89.423595</td>\n",
       "      <td>7.134</td>\n",
       "      <td>0.00</td>\n",
       "      <td>0.0</td>\n",
       "      <td>1</td>\n",
       "      <td>24</td>\n",
       "    </tr>\n",
       "  </tbody>\n",
       "</table>\n",
       "</div>"
      ],
      "text/plain": [
       "   性别  体重指数          糖尿病家族史         舒张压  口服耐糖量测试  胰岛素释放实验  肱三头肌皮褶厚度  患有糖尿病标识  \\\n",
       "0   0  30.1             无记录  106.000000    3.818     7.89       0.0        0   \n",
       "1   0  27.5             无记录   84.000000   -1.000     0.00      14.7        0   \n",
       "2   1  36.5             无记录   85.000000    7.131     0.00      40.1        1   \n",
       "3   1  29.5             无记录   91.000000    7.041     0.00       0.0        0   \n",
       "4   0  42.0  叔叔或者姑姑有一方患有糖尿病   89.423595    7.134     0.00       0.0        1   \n",
       "\n",
       "   年龄  \n",
       "0  26  \n",
       "1  34  \n",
       "2  34  \n",
       "3  30  \n",
       "4  24  "
      ]
     },
     "execution_count": 16,
     "metadata": {},
     "output_type": "execute_result"
    }
   ],
   "source": [
    "train_df.head()"
   ]
  },
  {
   "cell_type": "code",
   "execution_count": 17,
   "metadata": {},
   "outputs": [
    {
     "data": {
      "text/plain": [
       "性别            int64\n",
       "体重指数        float64\n",
       "糖尿病家族史       object\n",
       "舒张压         float64\n",
       "口服耐糖量测试     float64\n",
       "胰岛素释放实验     float64\n",
       "肱三头肌皮褶厚度    float64\n",
       "患有糖尿病标识       int64\n",
       "年龄            int64\n",
       "dtype: object"
      ]
     },
     "execution_count": 17,
     "metadata": {},
     "output_type": "execute_result"
    }
   ],
   "source": [
    "train_df.dtypes"
   ]
  },
  {
   "cell_type": "code",
   "execution_count": 18,
   "metadata": {},
   "outputs": [],
   "source": [
    "#把“性别”转化为“object\"\n",
    "train_df['性别'] = train_df['性别'].astype('category')\n",
    "test_df['性别'] = test_df['性别'].astype('category')"
   ]
  },
  {
   "cell_type": "markdown",
   "metadata": {},
   "source": [
    "## 步骤3：计算字段相关性"
   ]
  },
  {
   "cell_type": "code",
   "execution_count": 19,
   "metadata": {},
   "outputs": [
    {
     "data": {
      "text/html": [
       "<div>\n",
       "<style scoped>\n",
       "    .dataframe tbody tr th:only-of-type {\n",
       "        vertical-align: middle;\n",
       "    }\n",
       "\n",
       "    .dataframe tbody tr th {\n",
       "        vertical-align: top;\n",
       "    }\n",
       "\n",
       "    .dataframe thead th {\n",
       "        text-align: right;\n",
       "    }\n",
       "</style>\n",
       "<table border=\"1\" class=\"dataframe\">\n",
       "  <thead>\n",
       "    <tr style=\"text-align: right;\">\n",
       "      <th></th>\n",
       "      <th>体重指数</th>\n",
       "      <th>舒张压</th>\n",
       "      <th>口服耐糖量测试</th>\n",
       "      <th>胰岛素释放实验</th>\n",
       "      <th>肱三头肌皮褶厚度</th>\n",
       "      <th>患有糖尿病标识</th>\n",
       "      <th>年龄</th>\n",
       "    </tr>\n",
       "  </thead>\n",
       "  <tbody>\n",
       "    <tr>\n",
       "      <th>体重指数</th>\n",
       "      <td>1.000000</td>\n",
       "      <td>0.155628</td>\n",
       "      <td>-0.001796</td>\n",
       "      <td>-0.034507</td>\n",
       "      <td>0.026321</td>\n",
       "      <td>0.377919</td>\n",
       "      <td>0.074603</td>\n",
       "    </tr>\n",
       "    <tr>\n",
       "      <th>舒张压</th>\n",
       "      <td>0.155628</td>\n",
       "      <td>1.000000</td>\n",
       "      <td>-0.019870</td>\n",
       "      <td>-0.204224</td>\n",
       "      <td>0.074586</td>\n",
       "      <td>0.153840</td>\n",
       "      <td>0.150721</td>\n",
       "    </tr>\n",
       "    <tr>\n",
       "      <th>口服耐糖量测试</th>\n",
       "      <td>-0.001796</td>\n",
       "      <td>-0.019870</td>\n",
       "      <td>1.000000</td>\n",
       "      <td>0.093715</td>\n",
       "      <td>-0.006483</td>\n",
       "      <td>0.178133</td>\n",
       "      <td>-0.002085</td>\n",
       "    </tr>\n",
       "    <tr>\n",
       "      <th>胰岛素释放实验</th>\n",
       "      <td>-0.034507</td>\n",
       "      <td>-0.204224</td>\n",
       "      <td>0.093715</td>\n",
       "      <td>1.000000</td>\n",
       "      <td>-0.015479</td>\n",
       "      <td>0.156656</td>\n",
       "      <td>-0.058585</td>\n",
       "    </tr>\n",
       "    <tr>\n",
       "      <th>肱三头肌皮褶厚度</th>\n",
       "      <td>0.026321</td>\n",
       "      <td>0.074586</td>\n",
       "      <td>-0.006483</td>\n",
       "      <td>-0.015479</td>\n",
       "      <td>1.000000</td>\n",
       "      <td>0.410667</td>\n",
       "      <td>0.013111</td>\n",
       "    </tr>\n",
       "    <tr>\n",
       "      <th>患有糖尿病标识</th>\n",
       "      <td>0.377919</td>\n",
       "      <td>0.153840</td>\n",
       "      <td>0.178133</td>\n",
       "      <td>0.156656</td>\n",
       "      <td>0.410667</td>\n",
       "      <td>1.000000</td>\n",
       "      <td>0.068225</td>\n",
       "    </tr>\n",
       "    <tr>\n",
       "      <th>年龄</th>\n",
       "      <td>0.074603</td>\n",
       "      <td>0.150721</td>\n",
       "      <td>-0.002085</td>\n",
       "      <td>-0.058585</td>\n",
       "      <td>0.013111</td>\n",
       "      <td>0.068225</td>\n",
       "      <td>1.000000</td>\n",
       "    </tr>\n",
       "  </tbody>\n",
       "</table>\n",
       "</div>"
      ],
      "text/plain": [
       "              体重指数       舒张压   口服耐糖量测试   胰岛素释放实验  肱三头肌皮褶厚度   患有糖尿病标识        年龄\n",
       "体重指数      1.000000  0.155628 -0.001796 -0.034507  0.026321  0.377919  0.074603\n",
       "舒张压       0.155628  1.000000 -0.019870 -0.204224  0.074586  0.153840  0.150721\n",
       "口服耐糖量测试  -0.001796 -0.019870  1.000000  0.093715 -0.006483  0.178133 -0.002085\n",
       "胰岛素释放实验  -0.034507 -0.204224  0.093715  1.000000 -0.015479  0.156656 -0.058585\n",
       "肱三头肌皮褶厚度  0.026321  0.074586 -0.006483 -0.015479  1.000000  0.410667  0.013111\n",
       "患有糖尿病标识   0.377919  0.153840  0.178133  0.156656  0.410667  1.000000  0.068225\n",
       "年龄        0.074603  0.150721 -0.002085 -0.058585  0.013111  0.068225  1.000000"
      ]
     },
     "execution_count": 19,
     "metadata": {},
     "output_type": "execute_result"
    }
   ],
   "source": [
    "#查看相关性\n",
    "correlation = train_df.corr()\n",
    "correlation"
   ]
  },
  {
   "cell_type": "markdown",
   "metadata": {},
   "source": [
    "可以看出，和“患有糖尿病标识”相关性较强的变量有：肱三头肌皮褶厚度（0.41），体重指数（0.38），口服耐糖量测试（0.18），舒张压（0.15）"
   ]
  },
  {
   "cell_type": "code",
   "execution_count": 20,
   "metadata": {},
   "outputs": [
    {
     "data": {
      "text/plain": [
       "<matplotlib.axes._subplots.AxesSubplot at 0x245e2872518>"
      ]
     },
     "execution_count": 20,
     "metadata": {},
     "output_type": "execute_result"
    },
    {
     "data": {
      "image/png": "[encoded data removed]",
      "text/plain": [
       "<Figure size 864x864 with 2 Axes>"
      ]
     },
     "metadata": {
      "needs_background": "light"
     },
     "output_type": "display_data"
    }
   ],
   "source": [
    "import matplotlib.pyplot as plt\n",
    "# 支持中文\n",
    "plt.rcParams['font.sans-serif'] = ['SimHei']  # 用来正常显示中文标签\n",
    "plt.rcParams['axes.unicode_minus'] = False  # 用来正常显示负号\n",
    "figure, ax = plt.subplots(figsize=(12, 12))\n",
    "sns.heatmap(train_df.corr(), square=True, annot=True, ax=ax)"
   ]
  },
  {
   "cell_type": "code",
   "execution_count": 21,
   "metadata": {},
   "outputs": [
    {
     "name": "stdout",
     "output_type": "stream",
     "text": [
      "     性别\n",
      "0  2754\n",
      "1  2316\n"
     ]
    }
   ],
   "source": [
    "count=pd.DataFrame(train_df['性别'].value_counts())\n",
    "print(count)"
   ]
  },
  {
   "cell_type": "code",
   "execution_count": 22,
   "metadata": {},
   "outputs": [
    {
     "name": "stdout",
     "output_type": "stream",
     "text": [
      "                糖尿病家族史\n",
      "无记录               2897\n",
      "叔叔或姑姑有一方患有糖尿病     1084\n",
      "父母有一方患有糖尿病         875\n",
      "叔叔或者姑姑有一方患有糖尿病     214\n"
     ]
    }
   ],
   "source": [
    "count=pd.DataFrame(train_df['糖尿病家族史'].value_counts())\n",
    "print(count)"
   ]
  },
  {
   "cell_type": "code",
   "execution_count": 23,
   "metadata": {},
   "outputs": [],
   "source": [
    "dict_糖尿病家族史 = {\n",
    "    '无记录': 0,\n",
    "    '叔叔或姑姑有一方患有糖尿病': 1,\n",
    "    '叔叔或者姑姑有一方患有糖尿病': 1,\n",
    "    '父母有一方患有糖尿病': 2\n",
    "}\n",
    "\n",
    "train_df['糖尿病家族史'] = train_df['糖尿病家族史'].map(dict_糖尿病家族史)\n",
    "test_df['糖尿病家族史'] = test_df['糖尿病家族史'].map(dict_糖尿病家族史)"
   ]
  },
  {
   "cell_type": "code",
   "execution_count": 24,
   "metadata": {},
   "outputs": [],
   "source": [
    "from sklearn.preprocessing import OneHotEncoder\n",
    "train_df=pd.get_dummies(train_df,columns=['性别'])\n",
    "train_df=pd.get_dummies(train_df,columns=['糖尿病家族史'])\n",
    "test_df=pd.get_dummies(test_df,columns=['性别'])\n",
    "test_df=pd.get_dummies(test_df,columns=['糖尿病家族史'])"
   ]
  },
  {
   "cell_type": "code",
   "execution_count": 25,
   "metadata": {},
   "outputs": [
    {
     "data": {
      "text/html": [
       "<div>\n",
       "<style scoped>\n",
       "    .dataframe tbody tr th:only-of-type {\n",
       "        vertical-align: middle;\n",
       "    }\n",
       "\n",
       "    .dataframe tbody tr th {\n",
       "        vertical-align: top;\n",
       "    }\n",
       "\n",
       "    .dataframe thead th {\n",
       "        text-align: right;\n",
       "    }\n",
       "</style>\n",
       "<table border=\"1\" class=\"dataframe\">\n",
       "  <thead>\n",
       "    <tr style=\"text-align: right;\">\n",
       "      <th></th>\n",
       "      <th>体重指数</th>\n",
       "      <th>舒张压</th>\n",
       "      <th>口服耐糖量测试</th>\n",
       "      <th>胰岛素释放实验</th>\n",
       "      <th>肱三头肌皮褶厚度</th>\n",
       "      <th>患有糖尿病标识</th>\n",
       "      <th>年龄</th>\n",
       "      <th>性别_0</th>\n",
       "      <th>性别_1</th>\n",
       "      <th>糖尿病家族史_0</th>\n",
       "      <th>糖尿病家族史_1</th>\n",
       "      <th>糖尿病家族史_2</th>\n",
       "    </tr>\n",
       "  </thead>\n",
       "  <tbody>\n",
       "    <tr>\n",
       "      <th>0</th>\n",
       "      <td>30.1</td>\n",
       "      <td>106.000000</td>\n",
       "      <td>3.818</td>\n",
       "      <td>7.89</td>\n",
       "      <td>0.0</td>\n",
       "      <td>0</td>\n",
       "      <td>26</td>\n",
       "      <td>1</td>\n",
       "      <td>0</td>\n",
       "      <td>1</td>\n",
       "      <td>0</td>\n",
       "      <td>0</td>\n",
       "    </tr>\n",
       "    <tr>\n",
       "      <th>1</th>\n",
       "      <td>27.5</td>\n",
       "      <td>84.000000</td>\n",
       "      <td>-1.000</td>\n",
       "      <td>0.00</td>\n",
       "      <td>14.7</td>\n",
       "      <td>0</td>\n",
       "      <td>34</td>\n",
       "      <td>1</td>\n",
       "      <td>0</td>\n",
       "      <td>1</td>\n",
       "      <td>0</td>\n",
       "      <td>0</td>\n",
       "    </tr>\n",
       "    <tr>\n",
       "      <th>2</th>\n",
       "      <td>36.5</td>\n",
       "      <td>85.000000</td>\n",
       "      <td>7.131</td>\n",
       "      <td>0.00</td>\n",
       "      <td>40.1</td>\n",
       "      <td>1</td>\n",
       "      <td>34</td>\n",
       "      <td>0</td>\n",
       "      <td>1</td>\n",
       "      <td>1</td>\n",
       "      <td>0</td>\n",
       "      <td>0</td>\n",
       "    </tr>\n",
       "    <tr>\n",
       "      <th>3</th>\n",
       "      <td>29.5</td>\n",
       "      <td>91.000000</td>\n",
       "      <td>7.041</td>\n",
       "      <td>0.00</td>\n",
       "      <td>0.0</td>\n",
       "      <td>0</td>\n",
       "      <td>30</td>\n",
       "      <td>0</td>\n",
       "      <td>1</td>\n",
       "      <td>1</td>\n",
       "      <td>0</td>\n",
       "      <td>0</td>\n",
       "    </tr>\n",
       "    <tr>\n",
       "      <th>4</th>\n",
       "      <td>42.0</td>\n",
       "      <td>89.423595</td>\n",
       "      <td>7.134</td>\n",
       "      <td>0.00</td>\n",
       "      <td>0.0</td>\n",
       "      <td>1</td>\n",
       "      <td>24</td>\n",
       "      <td>1</td>\n",
       "      <td>0</td>\n",
       "      <td>0</td>\n",
       "      <td>1</td>\n",
       "      <td>0</td>\n",
       "    </tr>\n",
       "  </tbody>\n",
       "</table>\n",
       "</div>"
      ],
      "text/plain": [
       "   体重指数         舒张压  口服耐糖量测试  胰岛素释放实验  肱三头肌皮褶厚度  患有糖尿病标识  年龄  性别_0  性别_1  \\\n",
       "0  30.1  106.000000    3.818     7.89       0.0        0  26     1     0   \n",
       "1  27.5   84.000000   -1.000     0.00      14.7        0  34     1     0   \n",
       "2  36.5   85.000000    7.131     0.00      40.1        1  34     0     1   \n",
       "3  29.5   91.000000    7.041     0.00       0.0        0  30     0     1   \n",
       "4  42.0   89.423595    7.134     0.00       0.0        1  24     1     0   \n",
       "\n",
       "   糖尿病家族史_0  糖尿病家族史_1  糖尿病家族史_2  \n",
       "0         1         0         0  \n",
       "1         1         0         0  \n",
       "2         1         0         0  \n",
       "3         1         0         0  \n",
       "4         0         1         0  "
      ]
     },
     "execution_count": 25,
     "metadata": {},
     "output_type": "execute_result"
    }
   ],
   "source": [
    "train_df.head()"
   ]
  },
  {
   "cell_type": "code",
   "execution_count": 26,
   "metadata": {},
   "outputs": [
    {
     "data": {
      "text/plain": [
       "Index(['体重指数', '舒张压', '口服耐糖量测试', '胰岛素释放实验', '肱三头肌皮褶厚度', '年龄', '性别_0', '性别_1',\n",
       "       '糖尿病家族史_0', '糖尿病家族史_1', '糖尿病家族史_2'],\n",
       "      dtype='object')"
      ]
     },
     "execution_count": 26,
     "metadata": {},
     "output_type": "execute_result"
    }
   ],
   "source": [
    "test_df.columns"
   ]
  },
  {
   "cell_type": "code",
   "execution_count": 27,
   "metadata": {},
   "outputs": [],
   "source": [
    "train_df = train_df.drop(['性别_0','糖尿病家族史_0'],axis=1)\n",
    "test_df = test_df.drop(['性别_0','糖尿病家族史_0'],axis=1)"
   ]
  },
  {
   "cell_type": "code",
   "execution_count": 28,
   "metadata": {},
   "outputs": [],
   "source": [
    "def BMI(a):\n",
    "    if a<18.5:\n",
    "        return 0\n",
    "    elif 18.5<=a<=24:\n",
    "        return 1\n",
    "    elif 24<a<=27:\n",
    "        return 2\n",
    "    elif 27<a<=32:\n",
    "        return 3\n",
    "    else:\n",
    "        return 4\n",
    "    \n",
    "train_df['BMI']=train_df['体重指数'].apply(BMI)\n",
    "test_df['BMI']=test_df['体重指数'].apply(BMI)"
   ]
  },
  {
   "cell_type": "code",
   "execution_count": 29,
   "metadata": {},
   "outputs": [],
   "source": [
    "def DBP(a):\n",
    "    if a<60:\n",
    "        return 0\n",
    "    elif 60<=a<=90:\n",
    "        return 1\n",
    "    elif a>90:\n",
    "        return 2\n",
    "    else:\n",
    "        return a\n",
    "train_df['DBP']=train_df['舒张压'].apply(DBP)\n",
    "test_df['DBP']=test_df['舒张压'].apply(DBP)"
   ]
  },
  {
   "cell_type": "code",
   "execution_count": 30,
   "metadata": {},
   "outputs": [
    {
     "data": {
      "text/plain": [
       "Index(['体重指数', '舒张压', '口服耐糖量测试', '胰岛素释放实验', '肱三头肌皮褶厚度', '患有糖尿病标识', '年龄',\n",
       "       '性别_1', '糖尿病家族史_1', '糖尿病家族史_2', 'BMI', 'DBP'],\n",
       "      dtype='object')"
      ]
     },
     "execution_count": 30,
     "metadata": {},
     "output_type": "execute_result"
    }
   ],
   "source": [
    "train_df.columns"
   ]
  },
  {
   "cell_type": "code",
   "execution_count": 31,
   "metadata": {},
   "outputs": [
    {
     "data": {
      "text/plain": [
       "Index(['体重指数', '舒张压', '口服耐糖量测试', '胰岛素释放实验', '肱三头肌皮褶厚度', '年龄', '性别_1',\n",
       "       '糖尿病家族史_1', '糖尿病家族史_2', 'BMI', 'DBP'],\n",
       "      dtype='object')"
      ]
     },
     "execution_count": 31,
     "metadata": {},
     "output_type": "execute_result"
    }
   ],
   "source": [
    "test_df.columns"
   ]
  },
  {
   "cell_type": "markdown",
   "metadata": {},
   "source": [
    "# 任务3：逻辑回归尝试"
   ]
  },
  {
   "cell_type": "markdown",
   "metadata": {},
   "source": [
    "## 步骤1：导入sklearn中的逻辑回归"
   ]
  },
  {
   "cell_type": "code",
   "execution_count": 32,
   "metadata": {},
   "outputs": [],
   "source": [
    "from sklearn.linear_model import LogisticRegression\n",
    "from sklearn.metrics import classification_report, confusion_matrix"
   ]
  },
  {
   "cell_type": "markdown",
   "metadata": {},
   "source": [
    "## 步骤2：使用训练集和逻辑回归进行训练，并在测试集上进行预测"
   ]
  },
  {
   "cell_type": "code",
   "execution_count": 33,
   "metadata": {},
   "outputs": [],
   "source": [
    "x_train = train_df.iloc[:,[0,1,2,3,4,6,7,8,9,10,11]]\n",
    "y_train = train_df.iloc[:,[5]]\n",
    "test = test_df"
   ]
  },
  {
   "cell_type": "code",
   "execution_count": 34,
   "metadata": {},
   "outputs": [
    {
     "name": "stderr",
     "output_type": "stream",
     "text": [
      "E:\\Anaconda\\lib\\site-packages\\sklearn\\utils\\validation.py:993: DataConversionWarning: A column-vector y was passed when a 1d array was expected. Please change the shape of y to (n_samples, ), for example using ravel().\n",
      "  y = column_or_1d(y, warn=True)\n"
     ]
    },
    {
     "data": {
      "text/plain": [
       "LogisticRegression(random_state=0, solver='liblinear')"
      ]
     },
     "execution_count": 34,
     "metadata": {},
     "output_type": "execute_result"
    }
   ],
   "source": [
    "model = LogisticRegression(solver='liblinear', random_state=0)\n",
    "model.fit(x_train,y_train)"
   ]
  },
  {
   "cell_type": "code",
   "execution_count": 35,
   "metadata": {},
   "outputs": [
    {
     "data": {
      "text/html": [
       "<div>\n",
       "<style scoped>\n",
       "    .dataframe tbody tr th:only-of-type {\n",
       "        vertical-align: middle;\n",
       "    }\n",
       "\n",
       "    .dataframe tbody tr th {\n",
       "        vertical-align: top;\n",
       "    }\n",
       "\n",
       "    .dataframe thead th {\n",
       "        text-align: right;\n",
       "    }\n",
       "</style>\n",
       "<table border=\"1\" class=\"dataframe\">\n",
       "  <thead>\n",
       "    <tr style=\"text-align: right;\">\n",
       "      <th></th>\n",
       "      <th>体重指数</th>\n",
       "      <th>舒张压</th>\n",
       "      <th>口服耐糖量测试</th>\n",
       "      <th>胰岛素释放实验</th>\n",
       "      <th>肱三头肌皮褶厚度</th>\n",
       "      <th>年龄</th>\n",
       "      <th>性别_1</th>\n",
       "      <th>糖尿病家族史_1</th>\n",
       "      <th>糖尿病家族史_2</th>\n",
       "      <th>BMI</th>\n",
       "      <th>DBP</th>\n",
       "    </tr>\n",
       "  </thead>\n",
       "  <tbody>\n",
       "    <tr>\n",
       "      <th>0</th>\n",
       "      <td>33.1</td>\n",
       "      <td>72.0</td>\n",
       "      <td>6.586</td>\n",
       "      <td>24.16</td>\n",
       "      <td>2.94</td>\n",
       "      <td>35</td>\n",
       "      <td>0</td>\n",
       "      <td>0</td>\n",
       "      <td>0</td>\n",
       "      <td>4</td>\n",
       "      <td>1</td>\n",
       "    </tr>\n",
       "    <tr>\n",
       "      <th>1</th>\n",
       "      <td>20.6</td>\n",
       "      <td>68.0</td>\n",
       "      <td>3.861</td>\n",
       "      <td>0.00</td>\n",
       "      <td>0.00</td>\n",
       "      <td>24</td>\n",
       "      <td>0</td>\n",
       "      <td>1</td>\n",
       "      <td>0</td>\n",
       "      <td>1</td>\n",
       "      <td>1</td>\n",
       "    </tr>\n",
       "    <tr>\n",
       "      <th>2</th>\n",
       "      <td>42.1</td>\n",
       "      <td>98.0</td>\n",
       "      <td>5.713</td>\n",
       "      <td>0.00</td>\n",
       "      <td>3.53</td>\n",
       "      <td>43</td>\n",
       "      <td>1</td>\n",
       "      <td>0</td>\n",
       "      <td>0</td>\n",
       "      <td>4</td>\n",
       "      <td>2</td>\n",
       "    </tr>\n",
       "    <tr>\n",
       "      <th>3</th>\n",
       "      <td>34.6</td>\n",
       "      <td>66.0</td>\n",
       "      <td>4.684</td>\n",
       "      <td>0.00</td>\n",
       "      <td>3.14</td>\n",
       "      <td>23</td>\n",
       "      <td>0</td>\n",
       "      <td>0</td>\n",
       "      <td>0</td>\n",
       "      <td>4</td>\n",
       "      <td>1</td>\n",
       "    </tr>\n",
       "    <tr>\n",
       "      <th>4</th>\n",
       "      <td>27.7</td>\n",
       "      <td>89.0</td>\n",
       "      <td>7.948</td>\n",
       "      <td>14.65</td>\n",
       "      <td>2.65</td>\n",
       "      <td>25</td>\n",
       "      <td>0</td>\n",
       "      <td>0</td>\n",
       "      <td>0</td>\n",
       "      <td>3</td>\n",
       "      <td>1</td>\n",
       "    </tr>\n",
       "  </tbody>\n",
       "</table>\n",
       "</div>"
      ],
      "text/plain": [
       "   体重指数   舒张压  口服耐糖量测试  胰岛素释放实验  肱三头肌皮褶厚度  年龄  性别_1  糖尿病家族史_1  糖尿病家族史_2  BMI  \\\n",
       "0  33.1  72.0    6.586    24.16      2.94  35     0         0         0    4   \n",
       "1  20.6  68.0    3.861     0.00      0.00  24     0         1         0    1   \n",
       "2  42.1  98.0    5.713     0.00      3.53  43     1         0         0    4   \n",
       "3  34.6  66.0    4.684     0.00      3.14  23     0         0         0    4   \n",
       "4  27.7  89.0    7.948    14.65      2.65  25     0         0         0    3   \n",
       "\n",
       "   DBP  \n",
       "0    1  \n",
       "1    1  \n",
       "2    2  \n",
       "3    1  \n",
       "4    1  "
      ]
     },
     "execution_count": 35,
     "metadata": {},
     "output_type": "execute_result"
    }
   ],
   "source": [
    "test.head()"
   ]
  },
  {
   "cell_type": "code",
   "execution_count": 36,
   "metadata": {},
   "outputs": [],
   "source": [
    "x_test = test"
   ]
  },
  {
   "cell_type": "code",
   "execution_count": 37,
   "metadata": {},
   "outputs": [
    {
     "data": {
      "text/plain": [
       "pandas.core.frame.DataFrame"
      ]
     },
     "execution_count": 37,
     "metadata": {},
     "output_type": "execute_result"
    }
   ],
   "source": [
    "predict_y = pd.DataFrame(model.predict(x_test))\n",
    "type(predict_y)"
   ]
  },
  {
   "cell_type": "code",
   "execution_count": 38,
   "metadata": {},
   "outputs": [],
   "source": [
    "predict_y.to_csv(path_or_buf=r'E:/学习/2021-2022学年学习文件/研一下课程文件/Python编程项目/糖尿病遗传风险预测挑战赛公开数据/预测结果.csv')"
   ]
  },
  {
   "cell_type": "markdown",
   "metadata": {},
   "source": [
    "## 步骤3：将步骤2预测的结果文件提交到比赛，截图分数；\n",
    "提交结果后，分数为：0.7154"
   ]
  },
  {
   "cell_type": "markdown",
   "metadata": {},
   "source": [
    "## 步骤4：将训练集20%划分为验证集，在训练部分进行训练，在测试部分进行预测，调节逻辑回归的超参数；"
   ]
  },
  {
   "cell_type": "code",
   "execution_count": 39,
   "metadata": {},
   "outputs": [],
   "source": [
    "import numpy as np\n",
    "from sklearn import linear_model, decomposition, datasets\n",
    "from sklearn.pipeline import Pipeline\n",
    "from sklearn.model_selection import GridSearchCV\n",
    "from sklearn.preprocessing import StandardScaler\n",
    "from sklearn.model_selection import RepeatedStratifiedKFold"
   ]
  },
  {
   "cell_type": "code",
   "execution_count": 40,
   "metadata": {},
   "outputs": [],
   "source": [
    "# split X and y into training and testing sets\n",
    "from sklearn.model_selection import train_test_split\n",
    "X_train, X_validate, Y_train, Y_validate = train_test_split(x_train, y_train, test_size = 0.20, random_state = 42)"
   ]
  },
  {
   "cell_type": "code",
   "execution_count": 41,
   "metadata": {},
   "outputs": [
    {
     "data": {
      "text/plain": [
       "(4056, 11)"
      ]
     },
     "execution_count": 41,
     "metadata": {},
     "output_type": "execute_result"
    }
   ],
   "source": [
    "X_train.shape"
   ]
  },
  {
   "cell_type": "code",
   "execution_count": 42,
   "metadata": {},
   "outputs": [
    {
     "data": {
      "text/plain": [
       "(4056, 1)"
      ]
     },
     "execution_count": 42,
     "metadata": {},
     "output_type": "execute_result"
    }
   ],
   "source": [
    "Y_train.shape"
   ]
  },
  {
   "cell_type": "code",
   "execution_count": 43,
   "metadata": {},
   "outputs": [],
   "source": [
    "# scaling the data\n",
    "sc = StandardScaler()\n",
    "X_train_std = sc.fit_transform(X_train)\n",
    "X_validate_std = sc.fit_transform(X_validate)\n",
    "x_test_std = sc.transform(x_test)"
   ]
  },
  {
   "cell_type": "code",
   "execution_count": 44,
   "metadata": {},
   "outputs": [],
   "source": [
    "from sklearn.model_selection import GridSearchCV\n",
    "from sklearn.linear_model import LogisticRegression\n",
    "penaltys=['l1','l2']\n",
    "Cs=[0.1,1,10,100,1000]\n",
    "#调优的参数集合，搜索网格为2x5，在网格上的交叉点进行搜索\n",
    "tuned_parameters=dict(penalty=penaltys,C=Cs)"
   ]
  },
  {
   "cell_type": "code",
   "execution_count": 45,
   "metadata": {},
   "outputs": [
    {
     "name": "stderr",
     "output_type": "stream",
     "text": [
      "E:\\Anaconda\\lib\\site-packages\\sklearn\\utils\\validation.py:993: DataConversionWarning: A column-vector y was passed when a 1d array was expected. Please change the shape of y to (n_samples, ), for example using ravel().\n",
      "  y = column_or_1d(y, warn=True)\n"
     ]
    },
    {
     "data": {
      "text/plain": [
       "GridSearchCV(cv=3, estimator=LogisticRegression(solver='liblinear'), n_jobs=4,\n",
       "             param_grid={'C': [0.1, 1, 10, 100, 1000], 'penalty': ['l1', 'l2']},\n",
       "             scoring='neg_log_loss')"
      ]
     },
     "execution_count": 45,
     "metadata": {},
     "output_type": "execute_result"
    }
   ],
   "source": [
    "lr_penalty=LogisticRegression(solver='liblinear')\n",
    "grid=GridSearchCV(lr_penalty,tuned_parameters,cv=3,scoring='neg_log_loss',n_jobs=4)\n",
    "grid.fit(X_train,Y_train)"
   ]
  },
  {
   "cell_type": "code",
   "execution_count": 46,
   "metadata": {},
   "outputs": [
    {
     "name": "stdout",
     "output_type": "stream",
     "text": [
      "0.4125402257319069\n",
      "{'C': 1000, 'penalty': 'l2'}\n"
     ]
    }
   ],
   "source": [
    "#examine the best model\n",
    "print(-grid.best_score_)\n",
    "print(grid.best_params_)"
   ]
  },
  {
   "cell_type": "code",
   "execution_count": 47,
   "metadata": {},
   "outputs": [
    {
     "name": "stderr",
     "output_type": "stream",
     "text": [
      "E:\\Anaconda\\lib\\site-packages\\sklearn\\utils\\validation.py:993: DataConversionWarning: A column-vector y was passed when a 1d array was expected. Please change the shape of y to (n_samples, ), for example using ravel().\n",
      "  y = column_or_1d(y, warn=True)\n"
     ]
    },
    {
     "data": {
      "text/plain": [
       "LogisticRegression(C=10, penalty='l1', random_state=0, solver='liblinear')"
      ]
     },
     "execution_count": 47,
     "metadata": {},
     "output_type": "execute_result"
    }
   ],
   "source": [
    "model1 = LogisticRegression(solver='liblinear', random_state=0,C=10,penalty='l1')\n",
    "model1.fit(x_train,y_train)"
   ]
  },
  {
   "cell_type": "markdown",
   "metadata": {},
   "source": [
    "提交结果后得分为0.72093，略有提高，但无明显提升。"
   ]
  },
  {
   "cell_type": "markdown",
   "metadata": {},
   "source": [
    "## 尝试决策树模型"
   ]
  },
  {
   "cell_type": "code",
   "execution_count": 48,
   "metadata": {},
   "outputs": [],
   "source": [
    "# import DecisionTreeClassifier\n",
    "\n",
    "from sklearn.tree import DecisionTreeClassifier"
   ]
  },
  {
   "cell_type": "code",
   "execution_count": 49,
   "metadata": {},
   "outputs": [
    {
     "data": {
      "text/plain": [
       "DecisionTreeClassifier(max_depth=3, random_state=0)"
      ]
     },
     "execution_count": 49,
     "metadata": {},
     "output_type": "execute_result"
    }
   ],
   "source": [
    "# instantiate the DecisionTreeClassifier model with criterion gini index\n",
    "\n",
    "clf_gini = DecisionTreeClassifier(criterion='gini', max_depth=3, random_state=0)\n",
    "# fit the model\n",
    "clf_gini.fit(X_train, Y_train)"
   ]
  },
  {
   "cell_type": "code",
   "execution_count": 50,
   "metadata": {},
   "outputs": [],
   "source": [
    "y_pred_gini = clf_gini.predict(x_test)"
   ]
  },
  {
   "cell_type": "code",
   "execution_count": 51,
   "metadata": {},
   "outputs": [
    {
     "data": {
      "text/plain": [
       "pandas.core.frame.DataFrame"
      ]
     },
     "execution_count": 51,
     "metadata": {},
     "output_type": "execute_result"
    }
   ],
   "source": [
    "predict_y = pd.DataFrame(clf_gini.predict(x_test))\n",
    "type(predict_y)"
   ]
  },
  {
   "cell_type": "code",
   "execution_count": 52,
   "metadata": {},
   "outputs": [],
   "source": [
    "predict_y.to_csv(path_or_buf=r'E:/学习/2021-2022学年学习文件/研一下课程文件/Python编程项目/糖尿病遗传风险预测挑战赛公开数据/预测结果.csv')"
   ]
  },
  {
   "cell_type": "markdown",
   "metadata": {},
   "source": [
    "再次提交结果，得分为0.87015，有显著提升。"
   ]
  },
  {
   "cell_type": "markdown",
   "metadata": {},
   "source": [
    "# 任务4 特征工程"
   ]
  },
  {
   "cell_type": "markdown",
   "metadata": {},
   "source": [
    "## 步骤1：统计每个性别对应的【体重指数】、【舒张压】平均值"
   ]
  },
  {
   "cell_type": "code",
   "execution_count": 53,
   "metadata": {},
   "outputs": [
    {
     "data": {
      "text/plain": [
       "性别_1\n",
       "0    37.197603\n",
       "1    38.925216\n",
       "Name: 体重指数, dtype: float64"
      ]
     },
     "execution_count": 53,
     "metadata": {},
     "output_type": "execute_result"
    }
   ],
   "source": [
    "train_df.groupby('性别_1')['体重指数'].mean()"
   ]
  },
  {
   "cell_type": "code",
   "execution_count": 54,
   "metadata": {},
   "outputs": [
    {
     "data": {
      "text/plain": [
       "性别_1\n",
       "0    88.786209\n",
       "1    90.181523\n",
       "Name: 舒张压, dtype: float64"
      ]
     },
     "execution_count": 54,
     "metadata": {},
     "output_type": "execute_result"
    }
   ],
   "source": [
    "train_df.groupby('性别_1')['舒张压'].mean()"
   ]
  },
  {
   "cell_type": "code",
   "execution_count": 55,
   "metadata": {},
   "outputs": [
    {
     "data": {
      "text/plain": [
       "Index(['体重指数', '舒张压', '口服耐糖量测试', '胰岛素释放实验', '肱三头肌皮褶厚度', '患有糖尿病标识', '年龄',\n",
       "       '性别_1', '糖尿病家族史_1', '糖尿病家族史_2', 'BMI', 'DBP'],\n",
       "      dtype='object')"
      ]
     },
     "execution_count": 55,
     "metadata": {},
     "output_type": "execute_result"
    }
   ],
   "source": [
    "train_df.columns"
   ]
  },
  {
   "cell_type": "markdown",
   "metadata": {},
   "source": [
    "# 任务6：高阶树模型"
   ]
  },
  {
   "cell_type": "markdown",
   "metadata": {},
   "source": [
    "## 步骤1：安装LightGBM，并学习基础的使用方法；"
   ]
  },
  {
   "cell_type": "code",
   "execution_count": 56,
   "metadata": {},
   "outputs": [
    {
     "name": "stderr",
     "output_type": "stream",
     "text": [
      "E:\\Anaconda\\lib\\site-packages\\dask\\dataframe\\utils.py:13: FutureWarning: pandas.util.testing is deprecated. Use the functions in the public API at pandas.testing instead.\n",
      "  import pandas.util.testing as tm\n",
      "E:\\Anaconda\\lib\\site-packages\\sklearn\\preprocessing\\_label.py:98: DataConversionWarning: A column-vector y was passed when a 1d array was expected. Please change the shape of y to (n_samples, ), for example using ravel().\n",
      "  y = column_or_1d(y, warn=True)\n",
      "E:\\Anaconda\\lib\\site-packages\\sklearn\\preprocessing\\_label.py:133: DataConversionWarning: A column-vector y was passed when a 1d array was expected. Please change the shape of y to (n_samples, ), for example using ravel().\n",
      "  y = column_or_1d(y, warn=True)\n"
     ]
    },
    {
     "data": {
      "text/plain": [
       "LGBMClassifier()"
      ]
     },
     "execution_count": 56,
     "metadata": {},
     "output_type": "execute_result"
    }
   ],
   "source": [
    "# split the dataset into the training set and test set\n",
    "from sklearn.model_selection import train_test_split\n",
    "x_train, x_test, y_train, y_test = train_test_split(X_train, Y_train, test_size = 0.3, random_state = 0)\n",
    "\n",
    "# build the lightgbm model\n",
    "import lightgbm as lgb\n",
    "clf = lgb.LGBMClassifier()\n",
    "clf.fit(x_train, y_train)"
   ]
  },
  {
   "cell_type": "code",
   "execution_count": 57,
   "metadata": {},
   "outputs": [
    {
     "name": "stdout",
     "output_type": "stream",
     "text": [
      "LightGBM Model accuracy score: 0.9482\n"
     ]
    }
   ],
   "source": [
    "# predict the results\n",
    "y_pred=clf.predict(x_test)\n",
    "\n",
    "# view accuracy\n",
    "from sklearn.metrics import accuracy_score\n",
    "accuracy=accuracy_score(y_pred, y_test)\n",
    "print('LightGBM Model accuracy score: {0:0.4f}'.format(accuracy_score(y_test, y_pred)))"
   ]
  },
  {
   "cell_type": "code",
   "execution_count": 58,
   "metadata": {},
   "outputs": [
    {
     "name": "stdout",
     "output_type": "stream",
     "text": [
      "Training-set accuracy score: 1.0000\n"
     ]
    }
   ],
   "source": [
    "y_pred_train = clf.predict(x_train)\n",
    "print('Training-set accuracy score: {0:0.4f}'. format(accuracy_score(y_train, y_pred_train)))"
   ]
  },
  {
   "cell_type": "code",
   "execution_count": 59,
   "metadata": {},
   "outputs": [
    {
     "name": "stdout",
     "output_type": "stream",
     "text": [
      "Training set score: 1.0000\n"
     ]
    }
   ],
   "source": [
    "print('Training set score: {:.4f}'.format(clf.score(x_train, y_train)))"
   ]
  },
  {
   "cell_type": "code",
   "execution_count": 60,
   "metadata": {},
   "outputs": [
    {
     "name": "stdout",
     "output_type": "stream",
     "text": [
      "Test set score: 0.9482\n"
     ]
    }
   ],
   "source": [
    "print('Test set score: {:.4f}'.format(clf.score(x_test, y_test)))"
   ]
  },
  {
   "cell_type": "code",
   "execution_count": 61,
   "metadata": {},
   "outputs": [
    {
     "data": {
      "text/plain": [
       "pandas.core.frame.DataFrame"
      ]
     },
     "execution_count": 61,
     "metadata": {},
     "output_type": "execute_result"
    }
   ],
   "source": [
    "predict_y = pd.DataFrame(clf.predict(test))\n",
    "type(predict_y)"
   ]
  },
  {
   "cell_type": "code",
   "execution_count": 62,
   "metadata": {},
   "outputs": [],
   "source": [
    "predict_y.to_csv(path_or_buf=r'E:/学习/2021-2022学年学习文件/研一下课程文件/Python编程项目/糖尿病遗传风险预测挑战赛公开数据/预测结果.csv')"
   ]
  },
  {
   "cell_type": "markdown",
   "metadata": {},
   "source": [
    "提交查看得分，结果为0.88918，略有提升。根据上述结果知现在模型存在过拟合。"
   ]
  },
  {
   "cell_type": "code",
   "execution_count": 63,
   "metadata": {},
   "outputs": [],
   "source": [
    "# 模型交叉验证\n",
    "def run_model_cv(model, kf, X_tr, y, X_te, cate_col=None):\n",
    "    train_pred = np.zeros( (len(X_tr), len(np.unique(y))) )\n",
    "    test_pred = np.zeros( (len(X_te), len(np.unique(y))) )\n",
    "\n",
    "    cv_clf = []\n",
    "    for tr_idx, val_idx in kf.split(X_tr, y):\n",
    "        x_tr = X_tr.iloc[tr_idx]; y_tr = y.iloc[tr_idx]\n",
    "\n",
    "        x_val = X_tr.iloc[val_idx]; y_val = y.iloc[val_idx]\n",
    "\n",
    "        call_back = [\n",
    "            lgb.early_stopping(50),\n",
    "        ]\n",
    "        eval_set = [(x_val, y_val)]\n",
    "        model.fit(x_tr, y_tr, eval_set=eval_set, callbacks=call_back, verbose=-1)\n",
    "\n",
    "        cv_clf.append(model)\n",
    "\n",
    "        train_pred[val_idx] = model.predict_proba(x_val)\n",
    "        test_pred += model.predict_proba(X_te)\n",
    "\n",
    "    test_pred /= kf.n_splits\n",
    "    return train_pred, test_pred, cv_clf\n"
   ]
  },
  {
   "cell_type": "code",
   "execution_count": 64,
   "metadata": {},
   "outputs": [
    {
     "name": "stdout",
     "output_type": "stream",
     "text": [
      "[LightGBM] [Warning] verbosity is set=-1, verbose=-1 will be ignored. Current value: verbosity=-1\n",
      "Training until validation scores don't improve for 50 rounds\n",
      "Early stopping, best iteration is:\n",
      "[396]\tvalid_0's binary_logloss: 0.0961495\n"
     ]
    },
    {
     "name": "stderr",
     "output_type": "stream",
     "text": [
      "E:\\Anaconda\\lib\\site-packages\\sklearn\\preprocessing\\_label.py:98: DataConversionWarning: A column-vector y was passed when a 1d array was expected. Please change the shape of y to (n_samples, ), for example using ravel().\n",
      "  y = column_or_1d(y, warn=True)\n",
      "E:\\Anaconda\\lib\\site-packages\\sklearn\\preprocessing\\_label.py:133: DataConversionWarning: A column-vector y was passed when a 1d array was expected. Please change the shape of y to (n_samples, ), for example using ravel().\n",
      "  y = column_or_1d(y, warn=True)\n",
      "E:\\Anaconda\\lib\\site-packages\\sklearn\\preprocessing\\_label.py:133: DataConversionWarning: A column-vector y was passed when a 1d array was expected. Please change the shape of y to (n_samples, ), for example using ravel().\n",
      "  y = column_or_1d(y, warn=True)\n",
      "E:\\Anaconda\\lib\\site-packages\\sklearn\\preprocessing\\_label.py:98: DataConversionWarning: A column-vector y was passed when a 1d array was expected. Please change the shape of y to (n_samples, ), for example using ravel().\n",
      "  y = column_or_1d(y, warn=True)\n",
      "E:\\Anaconda\\lib\\site-packages\\sklearn\\preprocessing\\_label.py:133: DataConversionWarning: A column-vector y was passed when a 1d array was expected. Please change the shape of y to (n_samples, ), for example using ravel().\n",
      "  y = column_or_1d(y, warn=True)\n",
      "E:\\Anaconda\\lib\\site-packages\\sklearn\\preprocessing\\_label.py:133: DataConversionWarning: A column-vector y was passed when a 1d array was expected. Please change the shape of y to (n_samples, ), for example using ravel().\n",
      "  y = column_or_1d(y, warn=True)\n"
     ]
    },
    {
     "name": "stdout",
     "output_type": "stream",
     "text": [
      "[LightGBM] [Warning] verbosity is set=-1, verbose=-1 will be ignored. Current value: verbosity=-1\n",
      "Training until validation scores don't improve for 50 rounds\n",
      "Early stopping, best iteration is:\n",
      "[361]\tvalid_0's binary_logloss: 0.136538\n",
      "[LightGBM] [Warning] verbosity is set=-1, verbose=-1 will be ignored. Current value: verbosity=-1\n",
      "Training until validation scores don't improve for 50 rounds\n",
      "Early stopping, best iteration is:\n",
      "[273]\tvalid_0's binary_logloss: 0.0974009\n",
      "[LightGBM] [Warning] verbosity is set=-1, verbose=-1 will be ignored. Current value: verbosity=-1\n",
      "Training until validation scores don't improve for 50 rounds\n",
      "Early stopping, best iteration is:\n",
      "[193]\tvalid_0's binary_logloss: 0.139527\n",
      "[LightGBM] [Warning] verbosity is set=-1, verbose=-1 will be ignored. Current value: verbosity=-1\n",
      "Training until validation scores don't improve for 50 rounds\n"
     ]
    },
    {
     "name": "stderr",
     "output_type": "stream",
     "text": [
      "E:\\Anaconda\\lib\\site-packages\\sklearn\\preprocessing\\_label.py:98: DataConversionWarning: A column-vector y was passed when a 1d array was expected. Please change the shape of y to (n_samples, ), for example using ravel().\n",
      "  y = column_or_1d(y, warn=True)\n",
      "E:\\Anaconda\\lib\\site-packages\\sklearn\\preprocessing\\_label.py:133: DataConversionWarning: A column-vector y was passed when a 1d array was expected. Please change the shape of y to (n_samples, ), for example using ravel().\n",
      "  y = column_or_1d(y, warn=True)\n",
      "E:\\Anaconda\\lib\\site-packages\\sklearn\\preprocessing\\_label.py:133: DataConversionWarning: A column-vector y was passed when a 1d array was expected. Please change the shape of y to (n_samples, ), for example using ravel().\n",
      "  y = column_or_1d(y, warn=True)\n",
      "E:\\Anaconda\\lib\\site-packages\\sklearn\\preprocessing\\_label.py:98: DataConversionWarning: A column-vector y was passed when a 1d array was expected. Please change the shape of y to (n_samples, ), for example using ravel().\n",
      "  y = column_or_1d(y, warn=True)\n",
      "E:\\Anaconda\\lib\\site-packages\\sklearn\\preprocessing\\_label.py:133: DataConversionWarning: A column-vector y was passed when a 1d array was expected. Please change the shape of y to (n_samples, ), for example using ravel().\n",
      "  y = column_or_1d(y, warn=True)\n",
      "E:\\Anaconda\\lib\\site-packages\\sklearn\\preprocessing\\_label.py:133: DataConversionWarning: A column-vector y was passed when a 1d array was expected. Please change the shape of y to (n_samples, ), for example using ravel().\n",
      "  y = column_or_1d(y, warn=True)\n",
      "E:\\Anaconda\\lib\\site-packages\\sklearn\\preprocessing\\_label.py:98: DataConversionWarning: A column-vector y was passed when a 1d array was expected. Please change the shape of y to (n_samples, ), for example using ravel().\n",
      "  y = column_or_1d(y, warn=True)\n",
      "E:\\Anaconda\\lib\\site-packages\\sklearn\\preprocessing\\_label.py:133: DataConversionWarning: A column-vector y was passed when a 1d array was expected. Please change the shape of y to (n_samples, ), for example using ravel().\n",
      "  y = column_or_1d(y, warn=True)\n",
      "E:\\Anaconda\\lib\\site-packages\\sklearn\\preprocessing\\_label.py:133: DataConversionWarning: A column-vector y was passed when a 1d array was expected. Please change the shape of y to (n_samples, ), for example using ravel().\n",
      "  y = column_or_1d(y, warn=True)\n"
     ]
    },
    {
     "name": "stdout",
     "output_type": "stream",
     "text": [
      "Early stopping, best iteration is:\n",
      "[177]\tvalid_0's binary_logloss: 0.145929\n"
     ]
    }
   ],
   "source": [
    "from sklearn.model_selection import KFold\n",
    "clf = lgb.LGBMClassifier(\n",
    "    max_depth=3, \n",
    "    n_estimators=4000, \n",
    "    n_jobs=-1, \n",
    "    verbose=-1,\n",
    "    verbosity=-1,\n",
    "    learning_rate=0.1,\n",
    ")\n",
    "\n",
    "train_pred, test_pred, cv_clf = run_model_cv(\n",
    "    clf, KFold(n_splits=5),\n",
    "    X_train,\n",
    "    Y_train,\n",
    "    test,\n",
    ")"
   ]
  },
  {
   "cell_type": "code",
   "execution_count": 65,
   "metadata": {},
   "outputs": [
    {
     "data": {
      "text/plain": [
       "[LGBMClassifier(max_depth=3, n_estimators=4000, verbose=-1, verbosity=-1),\n",
       " LGBMClassifier(max_depth=3, n_estimators=4000, verbose=-1, verbosity=-1),\n",
       " LGBMClassifier(max_depth=3, n_estimators=4000, verbose=-1, verbosity=-1),\n",
       " LGBMClassifier(max_depth=3, n_estimators=4000, verbose=-1, verbosity=-1),\n",
       " LGBMClassifier(max_depth=3, n_estimators=4000, verbose=-1, verbosity=-1)]"
      ]
     },
     "execution_count": 65,
     "metadata": {},
     "output_type": "execute_result"
    }
   ],
   "source": [
    "cv_clf"
   ]
  },
  {
   "cell_type": "code",
   "execution_count": 66,
   "metadata": {},
   "outputs": [],
   "source": [
    "predict_y = pd.DataFrame(test_pred.argmax(1))"
   ]
  },
  {
   "cell_type": "code",
   "execution_count": 67,
   "metadata": {},
   "outputs": [],
   "source": [
    "predict_y.to_csv(path_or_buf=r'E:/学习/2021-2022学年学习文件/研一下课程文件/Python编程项目/糖尿病遗传风险预测挑战赛公开数据/预测结果.csv')"
   ]
  },
  {
   "cell_type": "markdown",
   "metadata": {},
   "source": [
    "再次提交结果，得分为0.91837."
   ]
  },
  {
   "cell_type": "markdown",
   "metadata": {},
   "source": [
    "# 任务7：多折训练与集成"
   ]
  },
  {
   "cell_type": "markdown",
   "metadata": {},
   "source": [
    "使用交叉验证训练5个机器学习模型（svm、lr等），使用stacking完成集成，将最新预测的结果文件提交到比赛，截图分数"
   ]
  },
  {
   "cell_type": "markdown",
   "metadata": {},
   "source": [
    "## 尝试随机森林"
   ]
  },
  {
   "cell_type": "code",
   "execution_count": 68,
   "metadata": {},
   "outputs": [
    {
     "name": "stderr",
     "output_type": "stream",
     "text": [
      "E:\\Anaconda\\lib\\site-packages\\ipykernel_launcher.py:9: DataConversionWarning: A column-vector y was passed when a 1d array was expected. Please change the shape of y to (n_samples,), for example using ravel().\n",
      "  if __name__ == '__main__':\n"
     ]
    }
   ],
   "source": [
    "# import Random Forest classifier\n",
    "\n",
    "from sklearn.ensemble import RandomForestClassifier\n",
    "# instantiate the classifier \n",
    "\n",
    "rfc = RandomForestClassifier(random_state=0)\n",
    "# fit the model\n",
    "\n",
    "rfc.fit(X_train, Y_train)\n",
    "\n",
    "# Predict the Test set results\n",
    "\n",
    "y_pred = rfc.predict(test)\n"
   ]
  },
  {
   "cell_type": "code",
   "execution_count": 69,
   "metadata": {},
   "outputs": [],
   "source": [
    "predict_y = pd.DataFrame(rfc.predict(test))"
   ]
  },
  {
   "cell_type": "code",
   "execution_count": 70,
   "metadata": {},
   "outputs": [],
   "source": [
    "predict_y.to_csv(path_or_buf=r'E:/学习/2021-2022学年学习文件/研一下课程文件/Python编程项目/糖尿病遗传风险预测挑战赛公开数据/预测结果.csv')"
   ]
  },
  {
   "cell_type": "code",
   "execution_count": 71,
   "metadata": {},
   "outputs": [
    {
     "name": "stderr",
     "output_type": "stream",
     "text": [
      "E:\\Anaconda\\lib\\site-packages\\ipykernel_launcher.py:7: DataConversionWarning: A column-vector y was passed when a 1d array was expected. Please change the shape of y to (n_samples,), for example using ravel().\n",
      "  import sys\n"
     ]
    }
   ],
   "source": [
    "# instantiate the classifier with n_estimators = 100\n",
    "\n",
    "rfc_100 = RandomForestClassifier(n_estimators=100, random_state=0)\n",
    "\n",
    "# fit the model to the training set\n",
    "\n",
    "rfc_100.fit(X_train, Y_train)\n",
    "\n",
    "\n",
    "\n",
    "# Predict on the test set results\n",
    "\n",
    "y_pred_100 = pd.DataFrame(rfc_100.predict(test))\n",
    "\n",
    "y_pred_100.to_csv(path_or_buf=r'E:/学习/2021-2022学年学习文件/研一下课程文件/Python编程项目/糖尿病遗传风险预测挑战赛公开数据/预测结果.csv')"
   ]
  },
  {
   "cell_type": "markdown",
   "metadata": {},
   "source": [
    "再次提交，得分为0.96224."
   ]
  },
  {
   "cell_type": "markdown",
   "metadata": {},
   "source": [
    "## 基于随机森林对特征重要性进行排序"
   ]
  },
  {
   "cell_type": "code",
   "execution_count": 72,
   "metadata": {},
   "outputs": [
    {
     "name": "stderr",
     "output_type": "stream",
     "text": [
      "E:\\Anaconda\\lib\\site-packages\\ipykernel_launcher.py:6: DataConversionWarning: A column-vector y was passed when a 1d array was expected. Please change the shape of y to (n_samples,), for example using ravel().\n",
      "  \n"
     ]
    },
    {
     "data": {
      "text/plain": [
       "RandomForestClassifier(random_state=0)"
      ]
     },
     "execution_count": 72,
     "metadata": {},
     "output_type": "execute_result"
    }
   ],
   "source": [
    "# create the classifier with n_estimators = 100\n",
    "\n",
    "clf = RandomForestClassifier(n_estimators=100, random_state=0)\n",
    "# fit the model to the training set\n",
    "\n",
    "clf.fit(X_train, Y_train)"
   ]
  },
  {
   "cell_type": "code",
   "execution_count": 73,
   "metadata": {},
   "outputs": [
    {
     "data": {
      "text/plain": [
       "体重指数        0.336974\n",
       "肱三头肌皮褶厚度    0.240891\n",
       "口服耐糖量测试     0.159251\n",
       "舒张压         0.115227\n",
       "胰岛素释放实验     0.076328\n",
       "年龄          0.034214\n",
       "BMI         0.017591\n",
       "DBP         0.005615\n",
       "性别_1        0.005442\n",
       "糖尿病家族史_2    0.004802\n",
       "糖尿病家族史_1    0.003665\n",
       "dtype: float64"
      ]
     },
     "execution_count": 73,
     "metadata": {},
     "output_type": "execute_result"
    }
   ],
   "source": [
    "# view the feature scores\n",
    "\n",
    "feature_scores = pd.Series(clf.feature_importances_, index=X_train.columns).sort_values(ascending=False)\n",
    "\n",
    "feature_scores"
   ]
  },
  {
   "cell_type": "code",
   "execution_count": 74,
   "metadata": {},
   "outputs": [],
   "source": [
    "# Build the Random Forest model on selected features"
   ]
  },
  {
   "cell_type": "code",
   "execution_count": 75,
   "metadata": {},
   "outputs": [],
   "source": [
    "# drop the least important feature from X_train and X_test\n",
    "X_train = X_train.drop(['糖尿病家族史_1'], axis=1)\n",
    "\n",
    "test = test.drop(['糖尿病家族史_1'], axis=1)"
   ]
  },
  {
   "cell_type": "code",
   "execution_count": 76,
   "metadata": {},
   "outputs": [
    {
     "name": "stderr",
     "output_type": "stream",
     "text": [
      "E:\\Anaconda\\lib\\site-packages\\ipykernel_launcher.py:7: DataConversionWarning: A column-vector y was passed when a 1d array was expected. Please change the shape of y to (n_samples,), for example using ravel().\n",
      "  import sys\n"
     ]
    },
    {
     "data": {
      "text/plain": [
       "RandomForestClassifier(random_state=0)"
      ]
     },
     "execution_count": 76,
     "metadata": {},
     "output_type": "execute_result"
    }
   ],
   "source": [
    "# instantiate the classifier with n_estimators = 100\n",
    "\n",
    "clf = RandomForestClassifier(n_estimators=100, random_state=0)\n",
    "\n",
    "# fit the model to the training set\n",
    "\n",
    "clf.fit(X_train, Y_train)\n"
   ]
  },
  {
   "cell_type": "code",
   "execution_count": 77,
   "metadata": {},
   "outputs": [],
   "source": [
    "y_pred = pd.DataFrame(clf.predict(test))\n",
    "y_pred.to_csv(path_or_buf=r'E:/学习/2021-2022学年学习文件/研一下课程文件/Python编程项目/糖尿病遗传风险预测挑战赛公开数据/预测结果.csv')"
   ]
  },
  {
   "cell_type": "markdown",
   "metadata": {},
   "source": [
    "## 尝试使用集成方法"
   ]
  },
  {
   "cell_type": "code",
   "execution_count": 78,
   "metadata": {},
   "outputs": [
    {
     "data": {
      "text/html": [
       "        <script type=\"text/javascript\">\n",
       "        window.PlotlyConfig = {MathJaxConfig: 'local'};\n",
       "        if (window.MathJax) {MathJax.Hub.Config({SVG: {font: \"STIX-Web\"}});}\n",
       "        if (typeof require !== 'undefined') {\n",
       "        require.undef(\"plotly\");\n",
       "        requirejs.config({\n",
       "            paths: {\n",
       "                'plotly': ['https://cdn.plot.ly/plotly-2.8.3.min']\n",
       "            }\n",
       "        });\n",
       "        require(['plotly'], function(Plotly) {\n",
       "            window._Plotly = Plotly;\n",
       "        });\n",
       "        }\n",
       "        </script>\n",
       "        "
      ]
     },
     "metadata": {},
     "output_type": "display_data"
    }
   ],
   "source": [
    "#import libraries\n",
    "from os import path\n",
    "\n",
    "# data analysis and wrangling\n",
    "import pandas as pd\n",
    "import numpy as np\n",
    "import random as rnd\n",
    "\n",
    "#Visualization\n",
    "import matplotlib as mpl\n",
    "import matplotlib.pyplot as plt\n",
    "import matplotlib.pylab as pylab\n",
    "import seaborn as sns\n",
    "\n",
    "#Configure Visualization Defaults\n",
    "#%matplotlib inline = show plots in Jupyter Notebook browser\n",
    "%matplotlib inline\n",
    "mpl.style.use('ggplot')\n",
    "pylab.rcParams['figure.figsize'] = 12,8\n",
    "\n",
    "import plotly.offline as py\n",
    "py.init_notebook_mode(connected=True)\n",
    "import plotly.graph_objs as go\n",
    "import plotly.tools as tls\n",
    "\n",
    "# machine learning\n",
    "from sklearn.linear_model import LogisticRegression\n",
    "from sklearn.linear_model import LogisticRegressionCV\n",
    "from sklearn.svm import SVC, LinearSVC\n",
    "from sklearn.ensemble import (RandomForestClassifier, AdaBoostClassifier, \n",
    "                              GradientBoostingClassifier, ExtraTreesClassifier)\n",
    "from sklearn.neighbors import KNeighborsClassifier\n",
    "from sklearn.naive_bayes import GaussianNB\n",
    "from sklearn.linear_model import Perceptron\n",
    "from sklearn.linear_model import SGDClassifier\n",
    "from sklearn.tree import DecisionTreeClassifier\n",
    "from sklearn import svm, tree, linear_model, neighbors, naive_bayes, ensemble, discriminant_analysis, gaussian_process\n",
    "\n",
    "from xgboost import XGBClassifier\n",
    "import xgboost as xgb\n",
    "\n",
    "\n",
    "#Common Model Helpers\n",
    "from sklearn.preprocessing import MinMaxScaler, StandardScaler\n",
    "from sklearn.preprocessing import OneHotEncoder, LabelEncoder\n",
    "from sklearn import feature_selection\n",
    "from sklearn import model_selection\n",
    "from sklearn import metrics\n",
    "from sklearn.model_selection import train_test_split, cross_validate\n",
    "from sklearn.model_selection import GridSearchCV\n",
    "from sklearn.metrics import r2_score\n",
    "from sklearn.metrics import accuracy_score, precision_score, recall_score, confusion_matrix\n",
    "from sklearn.metrics import classification_report, balanced_accuracy_score, f1_score\n",
    "\n",
    "#stacking\n",
    "from sklearn.model_selection import KFold\n",
    "\n",
    "#hyperparameter tuning\n",
    "from hyperopt import STATUS_OK, Trials, fmin, hp, tpe\n",
    "\n",
    "import warnings\n",
    "warnings.filterwarnings('ignore')"
   ]
  },
  {
   "cell_type": "code",
   "execution_count": 79,
   "metadata": {},
   "outputs": [],
   "source": [
    "# Some useful parameters which will come in handy later on\n",
    "ntrain = train_df.shape[0]\n",
    "ntest = test_df.shape[0]\n",
    "SEED = 0 # for reproducibility\n",
    "NFOLDS = 5 # set folds for out-of-fold prediction\n",
    "kf = KFold(n_splits= NFOLDS)\n",
    "\n",
    "# Class to extend the Sklearn classifier\n",
    "class SklearnHelper(object):\n",
    "    def __init__(self, clf, params=None):\n",
    "#        params['random_state'] = seed\n",
    "        self.clf = clf(**params)\n",
    "\n",
    "    def train(self, x_train, y_train):\n",
    "        self.clf.fit(x_train, y_train)\n",
    "\n",
    "    def predict(self, x):\n",
    "        return self.clf.predict(x)\n",
    "    \n",
    "    def fit(self,x,y):\n",
    "        return self.clf.fit(x,y)\n",
    "    \n",
    "    def feature_importances(self,x,y):\n",
    "        print(self.clf.fit(x,y).feature_importances_)"
   ]
  },
  {
   "cell_type": "code",
   "execution_count": 80,
   "metadata": {},
   "outputs": [],
   "source": [
    "#function to get the out of fold predictions for each of the base models\n",
    "def get_oof(clf, x_train, y_train, x_test):\n",
    "    oof_train = np.zeros((ntrain,))\n",
    "    oof_test = np.zeros((ntest,))\n",
    "    oof_test_skf = np.empty((NFOLDS, ntest))\n",
    "\n",
    "    for i, (train_index, test_index) in enumerate(kf.split(x_train)):\n",
    "        x_tr = x_train[train_index]\n",
    "        y_tr = y_train[train_index]\n",
    "        x_te = x_train[test_index]\n",
    "\n",
    "        clf.train(x_tr, y_tr)\n",
    "\n",
    "        oof_train[test_index] = clf.predict(x_te)\n",
    "        oof_test_skf[i, :] = clf.predict(x_test)\n",
    "\n",
    "    oof_test[:] = oof_test_skf.mean(axis=0)\n",
    "    return oof_train.reshape(-1, 1), oof_test.reshape(-1, 1)"
   ]
  },
  {
   "cell_type": "markdown",
   "metadata": {},
   "source": [
    "### Logistic Regression CV"
   ]
  },
  {
   "cell_type": "code",
   "execution_count": 81,
   "metadata": {},
   "outputs": [
    {
     "name": "stdout",
     "output_type": "stream",
     "text": [
      "BEFORE LR Parameters:  {'Cs': 10, 'class_weight': None, 'cv': None, 'dual': False, 'fit_intercept': True, 'intercept_scaling': 1.0, 'l1_ratios': None, 'max_iter': 100, 'multi_class': 'auto', 'n_jobs': None, 'penalty': 'l2', 'random_state': None, 'refit': True, 'scoring': None, 'solver': 'lbfgs', 'tol': 0.0001, 'verbose': 0}\n",
      "BEFORE LR Training w/bin score mean: 83.77\n",
      "BEFORE LR Test w/bin score mean: 83.93\n",
      "BEFORE LR Test w/bin score 3*std: +/- 2.08\n",
      "----------\n",
      "AFTER LR Parameters:  {'Cs': 10, 'penalty': 'l2', 'solver': 'newton-cg'}\n",
      "AFTER LR Training w/bin score mean: 87.93\n",
      "AFTER LR Test w/bin score mean: 88.07\n",
      "AFTER LR Test w/bin score 3*std: +/- 3.05\n",
      "----------\n"
     ]
    }
   ],
   "source": [
    "#create lists of values for hyperparameters to tune using param_grid\n",
    "grid_C = [100, 10, 1.0, 0.1, 0.01]\n",
    "\n",
    "#split dataset in cross-validation with this splitter class: \n",
    "cv_split = model_selection.ShuffleSplit(n_splits = 10, test_size = .3, train_size = .6, random_state = 0 ) # run model 10x with 60/30 split intentionally leaving out 10%\n",
    "\n",
    "#base model\n",
    "LR = linear_model.LogisticRegressionCV()\n",
    "base_results = model_selection.cross_validate(LR, X_train, Y_train, cv  = cv_split, return_train_score=True)\n",
    "LR.fit(X_train, Y_train)\n",
    "\n",
    "print('BEFORE LR Parameters: ', LR.get_params())\n",
    "print(\"BEFORE LR Training w/bin score mean: {:.2f}\". format(base_results['train_score'].mean()*100)) \n",
    "print(\"BEFORE LR Test w/bin score mean: {:.2f}\". format(base_results['test_score'].mean()*100))\n",
    "print(\"BEFORE LR Test w/bin score 3*std: +/- {:.2f}\". format(base_results['test_score'].std()*100*3))\n",
    "print('-'*10)\n",
    "\n",
    "\n",
    "#tune hyper-parameters:\n",
    "param_grid = {'Cs': grid_C,  \n",
    "              'penalty': ['none', 'l1', 'l2', 'elasticnet'], \n",
    "              'solver': ['newton-cg', 'lbfgs', 'liblinear', 'sag', 'saga']\n",
    "           }\n",
    "\n",
    "#choose best model with grid_search: \n",
    "tune_model = model_selection.GridSearchCV(LR, param_grid=param_grid, scoring = 'roc_auc', cv = cv_split, return_train_score=True)\n",
    "tune_model.fit(X_train, Y_train)\n",
    "\n",
    "print('AFTER LR Parameters: ', tune_model.best_params_)\n",
    "print(\"AFTER LR Training w/bin score mean: {:.2f}\". format(tune_model.cv_results_['mean_train_score'][tune_model.best_index_]*100)) \n",
    "print(\"AFTER LR Test w/bin score mean: {:.2f}\". format(tune_model.cv_results_['mean_test_score'][tune_model.best_index_]*100))\n",
    "print(\"AFTER LR Test w/bin score 3*std: +/- {:.2f}\". format(tune_model.cv_results_['std_test_score'][tune_model.best_index_]*100*3))\n",
    "print('-'*10)"
   ]
  },
  {
   "cell_type": "markdown",
   "metadata": {},
   "source": [
    "### K Neighbours Classifier"
   ]
  },
  {
   "cell_type": "code",
   "execution_count": 82,
   "metadata": {},
   "outputs": [
    {
     "name": "stdout",
     "output_type": "stream",
     "text": [
      "BEFORE KN Parameters:  {'algorithm': 'auto', 'leaf_size': 30, 'metric': 'minkowski', 'metric_params': None, 'n_jobs': None, 'n_neighbors': 5, 'p': 2, 'weights': 'uniform'}\n",
      "BEFORE KN Training w/bin score mean: 92.15\n",
      "BEFORE KN Test w/bin score mean: 89.24\n",
      "BEFORE KN Test w/bin score 3*std: +/- 1.93\n",
      "----------\n",
      "AFTER KN Parameters:  {'n_neighbors': 21}\n",
      "AFTER KN Training w/bin score mean: 95.84\n",
      "AFTER KN Test w/bin score mean: 94.44\n",
      "AFTER KN Test w/bin score 3*std: +/- 1.97\n"
     ]
    }
   ],
   "source": [
    "#create lists of values for hyperparameters to tune using param_grid\n",
    "grid_neighbors = [1,5,9,13,17,21,30,50]\n",
    "\n",
    "#split dataset in cross-validation with this splitter class:\n",
    "cv_split = model_selection.ShuffleSplit(n_splits = 10, test_size = .3, train_size = .6, random_state = 0 ) # run model 10x with 60/30 split intentionally leaving out 10%\n",
    "\n",
    "#base model\n",
    "KN = neighbors.KNeighborsClassifier()\n",
    "base_results = model_selection.cross_validate(KN, X_train, Y_train, cv  = cv_split, return_train_score=True)\n",
    "KN.fit(X_train, Y_train)\n",
    "\n",
    "print('BEFORE KN Parameters: ', KN.get_params())\n",
    "print(\"BEFORE KN Training w/bin score mean: {:.2f}\". format(base_results['train_score'].mean()*100)) \n",
    "print(\"BEFORE KN Test w/bin score mean: {:.2f}\". format(base_results['test_score'].mean()*100))\n",
    "print(\"BEFORE KN Test w/bin score 3*std: +/- {:.2f}\". format(base_results['test_score'].std()*100*3))\n",
    "print('-'*10)\n",
    "\n",
    "\n",
    "#tune hyper-parameters:\n",
    "param_grid = {'n_neighbors': grid_neighbors  \n",
    "           }\n",
    "\n",
    "#choose best model with grid_search\n",
    "\n",
    "tune_model = model_selection.GridSearchCV(KN, param_grid=param_grid, scoring = 'roc_auc', cv = cv_split, return_train_score=True)\n",
    "tune_model.fit(X_train, Y_train)\n",
    "\n",
    "print('AFTER KN Parameters: ', tune_model.best_params_)\n",
    "print(\"AFTER KN Training w/bin score mean: {:.2f}\". format(tune_model.cv_results_['mean_train_score'][tune_model.best_index_]*100)) \n",
    "print(\"AFTER KN Test w/bin score mean: {:.2f}\". format(tune_model.cv_results_['mean_test_score'][tune_model.best_index_]*100))\n",
    "print(\"AFTER KN Test w/bin score 3*std: +/- {:.2f}\". format(tune_model.cv_results_['std_test_score'][tune_model.best_index_]*100*3))\n"
   ]
  },
  {
   "cell_type": "markdown",
   "metadata": {},
   "source": [
    "### Random Forest"
   ]
  },
  {
   "cell_type": "code",
   "execution_count": 83,
   "metadata": {},
   "outputs": [],
   "source": [
    "#split training data into training and validation set\n",
    "X_training, X_val, y_training, y_val = train_test_split(X_train, Y_train, test_size=0.3, random_state=0)"
   ]
  },
  {
   "cell_type": "code",
   "execution_count": 84,
   "metadata": {},
   "outputs": [],
   "source": [
    "#function to explore individual hyperparameters so that final param grid can be more finely tuned to save computation time\n",
    "def explore_RF_hyperparameters(hyperparameter, hyperparameter_values, scoring='accuracy'):\n",
    "\n",
    "    param_grid = [{hyperparameter: hyperparameter_value} for hyperparameter_value in hyperparameter_values]\n",
    "    score_training_data = []\n",
    "    score_val_data = []\n",
    "\n",
    "    for i, _ in enumerate(hyperparameter_values):\n",
    "        clf = RandomForestClassifier(random_state=0, **param_grid[i])\n",
    "        clf.fit(X_training, y_training)\n",
    "        scorer = metrics.get_scorer(scoring)\n",
    "        score_training_data.append(scorer(clf, X_training, y_training))\n",
    "        score_val_data.append(scorer(clf, X_val, y_val))\n",
    "\n",
    "    plt.plot(hyperparameter_values, score_training_data)\n",
    "    plt.plot(hyperparameter_values, score_val_data)\n",
    "    plt.legend(['Training Data', 'Validation Data'])\n",
    "    plt.xlabel('Hyperparameter Value')\n",
    "    plt.ylabel('Score')\n",
    "    plt.show()"
   ]
  },
  {
   "cell_type": "code",
   "execution_count": 85,
   "metadata": {},
   "outputs": [
    {
     "data": {
      "image/png": "[encoded data removed]",
      "text/plain": [
       "<Figure size 864x576 with 1 Axes>"
      ]
     },
     "metadata": {},
     "output_type": "display_data"
    }
   ],
   "source": [
    "#varying the number of estimators   \n",
    "explore_RF_hyperparameters(\n",
    "    hyperparameter=\"n_estimators\",\n",
    "    hyperparameter_values = [1, 10, 25, 50, 75, 100, 150]\n",
    ")"
   ]
  },
  {
   "cell_type": "code",
   "execution_count": 86,
   "metadata": {},
   "outputs": [
    {
     "data": {
      "image/png": "[encoded data removed]",
      "text/plain": [
       "<Figure size 864x576 with 1 Axes>"
      ]
     },
     "metadata": {},
     "output_type": "display_data"
    }
   ],
   "source": [
    "#varying the max depth \n",
    "explore_RF_hyperparameters(\n",
    "    hyperparameter=\"max_depth\",\n",
    "    hyperparameter_values = [2, 4, 6, 8, 10, 12, 14, 16 , 20, 30]\n",
    ")"
   ]
  },
  {
   "cell_type": "code",
   "execution_count": 87,
   "metadata": {},
   "outputs": [
    {
     "data": {
      "image/png": "[encoded data removed]",
      "text/plain": [
       "<Figure size 864x576 with 1 Axes>"
      ]
     },
     "metadata": {},
     "output_type": "display_data"
    }
   ],
   "source": [
    "#varying the min samples per split\n",
    "explore_RF_hyperparameters(\n",
    "    hyperparameter=\"min_samples_split\",\n",
    "    hyperparameter_values = [ 2, 3, 4, 5,10,20]\n",
    ")"
   ]
  },
  {
   "cell_type": "code",
   "execution_count": 88,
   "metadata": {},
   "outputs": [
    {
     "data": {
      "image/png": "[encoded data removed]",
      "text/plain": [
       "<Figure size 864x576 with 1 Axes>"
      ]
     },
     "metadata": {},
     "output_type": "display_data"
    }
   ],
   "source": [
    "#varying the min samples per leaf\n",
    "explore_RF_hyperparameters(\n",
    "    hyperparameter=\"min_samples_leaf\",\n",
    "    hyperparameter_values = [1, 2, 3, 4, 5]\n",
    ")"
   ]
  },
  {
   "cell_type": "code",
   "execution_count": 89,
   "metadata": {},
   "outputs": [
    {
     "name": "stdout",
     "output_type": "stream",
     "text": [
      "BEFORE RF Parameters:  {'bootstrap': True, 'ccp_alpha': 0.0, 'class_weight': None, 'criterion': 'gini', 'max_depth': None, 'max_features': 'auto', 'max_leaf_nodes': None, 'max_samples': None, 'min_impurity_decrease': 0.0, 'min_samples_leaf': 1, 'min_samples_split': 2, 'min_weight_fraction_leaf': 0.0, 'n_estimators': 100, 'n_jobs': None, 'oob_score': False, 'random_state': None, 'verbose': 0, 'warm_start': False}\n",
      "BEFORE RF Training w/bin score mean: 100.00\n",
      "BEFORE RF Test w/bin score mean: 96.01\n",
      "BEFORE RF Test w/bin score 3*std: +/- 1.63\n",
      "----------\n",
      "AFTER RF Parameters:  {'criterion': 'entropy', 'max_depth': 12, 'max_features': 'auto', 'min_samples_leaf': 2, 'min_samples_split': 10, 'n_estimators': 30, 'random_state': 0}\n",
      "AFTER RF Training w/bin score mean: 99.82\n",
      "AFTER RF Test w/bin score mean: 99.13\n",
      "AFTER RF Test w/bin score 3*std: +/- 0.60\n",
      "----------\n"
     ]
    }
   ],
   "source": [
    "#create lists of values for hyperparameters to tune using param_grid\n",
    "grid_n_estimator = [ 10, 20, 30]\n",
    "grid_max_depth = [ 8, 10, 12]\n",
    "grid_seed = [0]\n",
    "grid_split = [5,10,15]\n",
    "grid_leaf = [2,3]\n",
    "\n",
    "#split dataset in cross-validation with this splitter class:\n",
    "cv_split = model_selection.ShuffleSplit(n_splits = 10, test_size = .3, train_size = .6, random_state = 0 ) # run model 10x with 60/30 split intentionally leaving out 10%\n",
    "\n",
    "#base model\n",
    "RF = ensemble.RandomForestClassifier()\n",
    "base_results = model_selection.cross_validate(RF, X_train, Y_train, cv  = cv_split, return_train_score=True)\n",
    "RF.fit(X_train, Y_train)\n",
    "\n",
    "print('BEFORE RF Parameters: ', RF.get_params())\n",
    "print(\"BEFORE RF Training w/bin score mean: {:.2f}\". format(base_results['train_score'].mean()*100)) \n",
    "print(\"BEFORE RF Test w/bin score mean: {:.2f}\". format(base_results['test_score'].mean()*100))\n",
    "print(\"BEFORE RF Test w/bin score 3*std: +/- {:.2f}\". format(base_results['test_score'].std()*100*3))\n",
    "print('-'*10)\n",
    "\n",
    "#tune hyper-parameters:\n",
    "param_grid = {'n_estimators': grid_n_estimator,  \n",
    "              'criterion': ['gini', 'entropy'], \n",
    "              'max_depth': grid_max_depth,    \n",
    "              'random_state': grid_seed,\n",
    "              'min_samples_split': grid_split,\n",
    "              'min_samples_leaf': grid_leaf,\n",
    "              'max_features': ['auto', 'sqrt', 'log2']\n",
    "           }\n",
    "\n",
    "\n",
    "#choose best model with grid_search: \n",
    "tune_model = model_selection.GridSearchCV(RF, param_grid=param_grid, scoring = 'roc_auc', cv = cv_split, return_train_score=True)\n",
    "tune_model.fit(X_train, Y_train)\n",
    "\n",
    "print('AFTER RF Parameters: ', tune_model.best_params_)\n",
    "print(\"AFTER RF Training w/bin score mean: {:.2f}\". format(tune_model.cv_results_['mean_train_score'][tune_model.best_index_]*100)) \n",
    "print(\"AFTER RF Test w/bin score mean: {:.2f}\". format(tune_model.cv_results_['mean_test_score'][tune_model.best_index_]*100))\n",
    "print(\"AFTER RF Test w/bin score 3*std: +/- {:.2f}\". format(tune_model.cv_results_['std_test_score'][tune_model.best_index_]*100*3))\n",
    "print('-'*10)\n"
   ]
  },
  {
   "cell_type": "markdown",
   "metadata": {},
   "source": [
    "### Extra Trees"
   ]
  },
  {
   "cell_type": "code",
   "execution_count": 90,
   "metadata": {},
   "outputs": [
    {
     "data": {
      "image/png": "[encoded data removed]",
      "text/plain": [
       "<Figure size 864x576 with 1 Axes>"
      ]
     },
     "metadata": {},
     "output_type": "display_data"
    }
   ],
   "source": [
    "#function to explore individual hyperparameters so that final param grid can be more finely tuned to save computation time\n",
    "def explore_ET_hyperparameters(hyperparameter, hyperparameter_values, scoring='accuracy'):\n",
    "\n",
    "    param_grid = [{hyperparameter: hyperparameter_value} for hyperparameter_value in hyperparameter_values]\n",
    "    score_training_data = []\n",
    "    score_val_data = []\n",
    "\n",
    "    for i, _ in enumerate(hyperparameter_values):\n",
    "        clf = ExtraTreesClassifier(random_state=0, **param_grid[i])\n",
    "        clf.fit(X_training, y_training)\n",
    "        scorer = metrics.get_scorer(scoring)\n",
    "        score_training_data.append(scorer(clf, X_training, y_training))\n",
    "        score_val_data.append(scorer(clf, X_val, y_val))\n",
    "\n",
    "    plt.plot(hyperparameter_values, score_training_data)\n",
    "    plt.plot(hyperparameter_values, score_val_data)\n",
    "    plt.legend(['Training Data', 'Validation Data'])\n",
    "    plt.xlabel('Hyperparameter Value')\n",
    "    plt.ylabel('Score')\n",
    "    plt.show()\n",
    "\n",
    "#varying the number of estimators   \n",
    "explore_ET_hyperparameters(\n",
    "    hyperparameter=\"n_estimators\",\n",
    "    hyperparameter_values = [1,3,6, 10, 20,30]\n",
    ")\n",
    "    "
   ]
  },
  {
   "cell_type": "code",
   "execution_count": 91,
   "metadata": {},
   "outputs": [
    {
     "data": {
      "image/png": "[encoded data removed]",
      "text/plain": [
       "<Figure size 864x576 with 1 Axes>"
      ]
     },
     "metadata": {},
     "output_type": "display_data"
    }
   ],
   "source": [
    "#varying the min samples per split\n",
    "explore_ET_hyperparameters(\n",
    "    hyperparameter=\"min_samples_split\",\n",
    "    hyperparameter_values = [ 2, 3, 4, 5,10,20]\n",
    ")"
   ]
  },
  {
   "cell_type": "code",
   "execution_count": 92,
   "metadata": {},
   "outputs": [
    {
     "data": {
      "image/png": "[encoded data removed]",
      "text/plain": [
       "<Figure size 864x576 with 1 Axes>"
      ]
     },
     "metadata": {},
     "output_type": "display_data"
    }
   ],
   "source": [
    "#varying the min samples per leaf\n",
    "explore_ET_hyperparameters(\n",
    "    hyperparameter=\"min_samples_leaf\",\n",
    "    hyperparameter_values = [1, 2, 3, 4, 5]\n",
    ")"
   ]
  },
  {
   "cell_type": "code",
   "execution_count": 93,
   "metadata": {},
   "outputs": [
    {
     "data": {
      "image/png": "[encoded data removed]",
      "text/plain": [
       "<Figure size 864x576 with 1 Axes>"
      ]
     },
     "metadata": {},
     "output_type": "display_data"
    }
   ],
   "source": [
    "#varying the max depth \n",
    "explore_ET_hyperparameters(\n",
    "    hyperparameter=\"max_depth\",\n",
    "    hyperparameter_values = [2, 4, 6, 8, 10, 12, 14, 16 , 20, 30]\n",
    ")"
   ]
  },
  {
   "cell_type": "code",
   "execution_count": 94,
   "metadata": {},
   "outputs": [
    {
     "name": "stdout",
     "output_type": "stream",
     "text": [
      "BEFORE ET Parameters:  {'bootstrap': False, 'ccp_alpha': 0.0, 'class_weight': None, 'criterion': 'gini', 'max_depth': None, 'max_features': 'auto', 'max_leaf_nodes': None, 'max_samples': None, 'min_impurity_decrease': 0.0, 'min_samples_leaf': 1, 'min_samples_split': 2, 'min_weight_fraction_leaf': 0.0, 'n_estimators': 100, 'n_jobs': None, 'oob_score': False, 'random_state': None, 'verbose': 0, 'warm_start': False}\n",
      "BEFORE ET Training w/bin score mean: 100.00\n",
      "BEFORE ET Test w/bin score mean: 93.42\n",
      "BEFORE ET Test w/bin score 3*std: +/- 1.73\n",
      "----------\n",
      "AFTER ET Parameters:  {'criterion': 'gini', 'max_depth': 12, 'max_features': 'auto', 'min_samples_leaf': 2, 'min_samples_split': 5, 'n_estimators': 14, 'random_state': 0}\n",
      "AFTER ET Training w/bin score mean: 99.46\n",
      "AFTER ET Test w/bin score mean: 97.27\n",
      "AFTER ET Test w/bin score 3*std: +/- 0.81\n",
      "----------\n"
     ]
    }
   ],
   "source": [
    "#create lists of values for hyperparameters to tune using param_grid\n",
    "grid_n_estimator = [ 6, 10, 14]\n",
    "grid_max_depth = [ 8, 10, 12]\n",
    "grid_seed = [0]\n",
    "grid_split = [5,10,15]\n",
    "grid_leaf = [2,3,4]\n",
    "\n",
    "#split dataset in cross-validation with this splitter class:\n",
    "cv_split = model_selection.ShuffleSplit(n_splits = 10, test_size = .3, train_size = .6, random_state = 0 ) # run model 10x with 60/30 split intentionally leaving out 10%\n",
    "\n",
    "#base model\n",
    "ET = ensemble.ExtraTreesClassifier()\n",
    "base_results = model_selection.cross_validate(ET, X_train, Y_train, cv  = cv_split, return_train_score=True)\n",
    "ET.fit(X_train, Y_train)\n",
    "\n",
    "print('BEFORE ET Parameters: ', ET.get_params())\n",
    "print(\"BEFORE ET Training w/bin score mean: {:.2f}\". format(base_results['train_score'].mean()*100)) \n",
    "print(\"BEFORE ET Test w/bin score mean: {:.2f}\". format(base_results['test_score'].mean()*100))\n",
    "print(\"BEFORE ET Test w/bin score 3*std: +/- {:.2f}\". format(base_results['test_score'].std()*100*3))\n",
    "print('-'*10)\n",
    "\n",
    "#tune hyper-parameters:\n",
    "param_grid = {'n_estimators': grid_n_estimator,  \n",
    "              'criterion': ['gini', 'entropy'], \n",
    "              'max_depth': grid_max_depth,    \n",
    "              'random_state': grid_seed,\n",
    "              'min_samples_split': grid_split,\n",
    "              'min_samples_leaf': grid_leaf,\n",
    "              'max_features': ['auto', 'sqrt', 'log2']\n",
    "           }\n",
    "\n",
    "#choose best model with grid_search: \n",
    "tune_model = model_selection.GridSearchCV(ET, param_grid=param_grid, scoring = 'roc_auc', cv = cv_split, return_train_score=True)\n",
    "tune_model.fit(X_train, Y_train)\n",
    "\n",
    "print('AFTER ET Parameters: ', tune_model.best_params_)\n",
    "print(\"AFTER ET Training w/bin score mean: {:.2f}\". format(tune_model.cv_results_['mean_train_score'][tune_model.best_index_]*100)) \n",
    "print(\"AFTER ET Test w/bin score mean: {:.2f}\". format(tune_model.cv_results_['mean_test_score'][tune_model.best_index_]*100))\n",
    "print(\"AFTER ET Test w/bin score 3*std: +/- {:.2f}\". format(tune_model.cv_results_['std_test_score'][tune_model.best_index_]*100*3))\n",
    "print('-'*10)\n"
   ]
  },
  {
   "cell_type": "markdown",
   "metadata": {},
   "source": [
    "### AdaBoost"
   ]
  },
  {
   "cell_type": "code",
   "execution_count": 95,
   "metadata": {},
   "outputs": [
    {
     "data": {
      "image/png": "[encoded data removed]",
      "text/plain": [
       "<Figure size 864x576 with 1 Axes>"
      ]
     },
     "metadata": {},
     "output_type": "display_data"
    }
   ],
   "source": [
    "#function to explore individual hyperparameters so that final param grid can be more finely tuned to save computation time\n",
    "def explore_ADA_hyperparameters(hyperparameter, hyperparameter_values, scoring='accuracy'):\n",
    "\n",
    "    param_grid = [{hyperparameter: hyperparameter_value} for hyperparameter_value in hyperparameter_values]\n",
    "    score_training_data = []\n",
    "    score_val_data = []\n",
    "\n",
    "    for i, _ in enumerate(hyperparameter_values):\n",
    "        clf = AdaBoostClassifier(random_state=0, **param_grid[i])\n",
    "        clf.fit(X_training, y_training)\n",
    "        scorer = metrics.get_scorer(scoring)\n",
    "        score_training_data.append(scorer(clf, X_training, y_training))\n",
    "        score_val_data.append(scorer(clf, X_val, y_val))\n",
    "\n",
    "    plt.plot(hyperparameter_values, score_training_data)\n",
    "    plt.plot(hyperparameter_values, score_val_data)\n",
    "    plt.legend(['Training Data', 'Validation Data'])\n",
    "    plt.xlabel('Hyperparameter Value')\n",
    "    plt.ylabel('Score')\n",
    "    plt.show()\n",
    "\n",
    "#varying the number of estimators   \n",
    "explore_ADA_hyperparameters(\n",
    "    hyperparameter=\"n_estimators\",\n",
    "    hyperparameter_values = [3,6,10,15,20]\n",
    ")\n"
   ]
  },
  {
   "cell_type": "code",
   "execution_count": 96,
   "metadata": {},
   "outputs": [
    {
     "data": {
      "image/png": "[encoded data removed]",
      "text/plain": [
       "<Figure size 864x576 with 1 Axes>"
      ]
     },
     "metadata": {},
     "output_type": "display_data"
    }
   ],
   "source": [
    "#varying the learning rate   \n",
    "explore_ADA_hyperparameters(\n",
    "    hyperparameter=\"learning_rate\",\n",
    "    hyperparameter_values = [.01, .03, .05, .1, .15, .25, 0.35, 0.5]\n",
    ")"
   ]
  },
  {
   "cell_type": "code",
   "execution_count": 97,
   "metadata": {},
   "outputs": [
    {
     "name": "stdout",
     "output_type": "stream",
     "text": [
      "BEFORE ADA Parameters:  {'algorithm': 'SAMME.R', 'base_estimator': None, 'learning_rate': 1.0, 'n_estimators': 50, 'random_state': None}\n",
      "BEFORE ADA Training w/bin score mean: 94.68\n",
      "BEFORE ADA Test w/bin score mean: 93.85\n",
      "BEFORE ADA Test w/bin score 3*std: +/- 1.22\n",
      "----------\n",
      "AFTER ADA Parameters:  {'learning_rate': 0.4, 'n_estimators': 12}\n",
      "AFTER ADA Training w/bin score mean: 98.00\n",
      "AFTER ADA Test w/bin score mean: 97.72\n",
      "AFTER ADA Test w/bin score 3*std: +/- 1.83\n",
      "----------\n"
     ]
    }
   ],
   "source": [
    "#create lists of values for hyperparameters to tune using param_grid\n",
    "grid_n_estimator = [ 6, 8, 10, 12]\n",
    "grid_learn = [ 0.25, 0.3, 0.35, 0.4]\n",
    "\n",
    "#split dataset in cross-validation with this splitter class:\n",
    "cv_split = model_selection.ShuffleSplit(n_splits = 10, test_size = .3, train_size = .6, random_state = 0 ) # run model 10x with 60/30 split intentionally leaving out 10%\n",
    "\n",
    "#base model\n",
    "ADA = ensemble.AdaBoostClassifier()\n",
    "base_results = model_selection.cross_validate(ADA, X_train, Y_train, cv  = cv_split, return_train_score=True)\n",
    "ADA.fit(X_train, Y_train)\n",
    "\n",
    "print('BEFORE ADA Parameters: ', ADA.get_params())\n",
    "print(\"BEFORE ADA Training w/bin score mean: {:.2f}\". format(base_results['train_score'].mean()*100)) \n",
    "print(\"BEFORE ADA Test w/bin score mean: {:.2f}\". format(base_results['test_score'].mean()*100))\n",
    "print(\"BEFORE ADA Test w/bin score 3*std: +/- {:.2f}\". format(base_results['test_score'].std()*100*3))\n",
    "print('-'*10)\n",
    "\n",
    "\n",
    "#tune hyper-parameters:\n",
    "param_grid = {'n_estimators': grid_n_estimator,  \n",
    "              'learning_rate': grid_learn\n",
    "           }\n",
    "\n",
    "#choose best model with grid_search:\n",
    "tune_model = model_selection.GridSearchCV(ADA, param_grid=param_grid, scoring = 'roc_auc', cv = cv_split, return_train_score=True)\n",
    "tune_model.fit(X_train, Y_train)\n",
    "\n",
    "print('AFTER ADA Parameters: ', tune_model.best_params_)\n",
    "print(\"AFTER ADA Training w/bin score mean: {:.2f}\". format(tune_model.cv_results_['mean_train_score'][tune_model.best_index_]*100)) \n",
    "print(\"AFTER ADA Test w/bin score mean: {:.2f}\". format(tune_model.cv_results_['mean_test_score'][tune_model.best_index_]*100))\n",
    "print(\"AFTER ADA Test w/bin score 3*std: +/- {:.2f}\". format(tune_model.cv_results_['std_test_score'][tune_model.best_index_]*100*3))\n",
    "print('-'*10)"
   ]
  },
  {
   "cell_type": "markdown",
   "metadata": {},
   "source": [
    "## SVC"
   ]
  },
  {
   "cell_type": "code",
   "execution_count": 98,
   "metadata": {},
   "outputs": [
    {
     "data": {
      "image/png": "[encoded data removed]",
      "text/plain": [
       "<Figure size 864x576 with 1 Axes>"
      ]
     },
     "metadata": {},
     "output_type": "display_data"
    }
   ],
   "source": [
    "#function to explore individual hyperparameters so that final param grid can be more finely tuned to save computation time\n",
    "def explore_SVC_hyperparameters(hyperparameter, hyperparameter_values, scoring='accuracy'):\n",
    "\n",
    "    param_grid = [{hyperparameter: hyperparameter_value} for hyperparameter_value in hyperparameter_values]\n",
    "    score_training_data = []\n",
    "    score_val_data = []\n",
    "\n",
    "    for i, _ in enumerate(hyperparameter_values):\n",
    "        clf = SVC(random_state=0, **param_grid[i])\n",
    "        clf.fit(X_training, y_training)\n",
    "        scorer = metrics.get_scorer(scoring)\n",
    "        score_training_data.append(scorer(clf, X_training, y_training))\n",
    "        score_val_data.append(scorer(clf, X_val, y_val))\n",
    "\n",
    "    plt.plot(hyperparameter_values, score_training_data)\n",
    "    plt.plot(hyperparameter_values, score_val_data)\n",
    "    plt.legend(['Training Data', 'Validation Data'])\n",
    "    plt.xlabel('Hyperparameter Value')\n",
    "    plt.ylabel('Score')\n",
    "    plt.show()\n",
    "\n",
    "#varying gamma \n",
    "explore_SVC_hyperparameters(\n",
    "    hyperparameter=\"gamma\",\n",
    "    hyperparameter_values = [0.3, 0.2,0.15,0.1,0.01]\n",
    ")\n"
   ]
  },
  {
   "cell_type": "code",
   "execution_count": 99,
   "metadata": {},
   "outputs": [
    {
     "data": {
      "image/png": "[encoded data removed]",
      "text/plain": [
       "<Figure size 864x576 with 1 Axes>"
      ]
     },
     "metadata": {},
     "output_type": "display_data"
    }
   ],
   "source": [
    "#varying C \n",
    "explore_SVC_hyperparameters(\n",
    "    hyperparameter=\"C\",\n",
    "    hyperparameter_values = [1,5,10,15,20]\n",
    ")"
   ]
  },
  {
   "cell_type": "code",
   "execution_count": null,
   "metadata": {},
   "outputs": [
    {
     "name": "stdout",
     "output_type": "stream",
     "text": [
      "BEFORE SVC Parameters:  {'C': 1.0, 'break_ties': False, 'cache_size': 200, 'class_weight': None, 'coef0': 0.0, 'decision_function_shape': 'ovr', 'degree': 3, 'gamma': 'scale', 'kernel': 'rbf', 'max_iter': -1, 'probability': False, 'random_state': None, 'shrinking': True, 'tol': 0.001, 'verbose': False}\n",
      "BEFORE SVC Training w/bin score mean: 86.91\n",
      "BEFORE SVC Test w/bin score mean: 87.17\n",
      "BEFORE SVC Test w/bin score 3*std: +/- 2.91\n",
      "----------\n"
     ]
    }
   ],
   "source": [
    "#create lists of values for hyperparameters to tune using param_grid\n",
    "grid_C = [5,10,15]\n",
    "grid_gamma = [0.125, 0.175,]\n",
    "\n",
    "#split dataset in cross-validation with this splitter class:\n",
    "cv_split = model_selection.ShuffleSplit(n_splits = 10, test_size = .3, train_size = .6, random_state = 0 ) # run model 10x with 60/30 split intentionally leaving out 10%\n",
    "\n",
    "#base model\n",
    "SVC_mla = svm.SVC()\n",
    "base_results = model_selection.cross_validate(SVC_mla, X_train, Y_train, cv  = cv_split, return_train_score=True)\n",
    "SVC_mla.fit(X_train, Y_train)\n",
    "\n",
    "print('BEFORE SVC Parameters: ', SVC_mla.get_params())\n",
    "print(\"BEFORE SVC Training w/bin score mean: {:.2f}\". format(base_results['train_score'].mean()*100)) \n",
    "print(\"BEFORE SVC Test w/bin score mean: {:.2f}\". format(base_results['test_score'].mean()*100))\n",
    "print(\"BEFORE SVC Test w/bin score 3*std: +/- {:.2f}\". format(base_results['test_score'].std()*100*3))\n",
    "print('-'*10)\n",
    "\n",
    "\n",
    "#tune hyper-parameters:\n",
    "param_grid = {'C': grid_C,  \n",
    "              'gamma': grid_gamma,\n",
    "              'kernel': ['rbf', 'poly', 'sigmoid']\n",
    "           }\n",
    "\n",
    "#choose best model with grid_search: \n",
    "tune_model = model_selection.GridSearchCV(SVC_mla, param_grid=param_grid, scoring = 'roc_auc', cv = cv_split, return_train_score=True)\n",
    "tune_model.fit(X_train, Y_train)\n",
    "\n",
    "print('AFTER SVC Parameters: ', tune_model.best_params_)\n",
    "print(\"AFTER SVC Training w/bin score mean: {:.2f}\". format(tune_model.cv_results_['mean_train_score'][tune_model.best_index_]*100)) \n",
    "print(\"AFTER SVC Test w/bin score mean: {:.2f}\". format(tune_model.cv_results_['mean_test_score'][tune_model.best_index_]*100))\n",
    "print(\"AFTER SVC Test w/bin score 3*std: +/- {:.2f}\". format(tune_model.cv_results_['std_test_score'][tune_model.best_index_]*100*3))\n",
    "print('-'*10)"
   ]
  },
  {
   "cell_type": "markdown",
   "metadata": {},
   "source": [
    "### Create Ensemble"
   ]
  },
  {
   "cell_type": "markdown",
   "metadata": {},
   "source": [
    "AFTER RF Parameters:  {'criterion': 'entropy', 'max_depth': 12, 'max_features': 'auto', 'min_samples_leaf': 2, 'min_samples_split': 15, 'n_estimators': 30, 'random_state': 0}\n",
    "AFTER ET Parameters:  {'criterion': 'entropy', 'max_depth': 12, 'max_features': 'auto', 'min_samples_leaf': 2, 'min_samples_split': 10, 'n_estimators': 14, 'random_state': 0}\n",
    "AFTER LR Parameters:  {'Cs': 10, 'penalty': 'l2', 'solver': 'newton-cg'}"
   ]
  },
  {
   "cell_type": "code",
   "execution_count": null,
   "metadata": {},
   "outputs": [],
   "source": [
    "# Put in our parameters for said classifiers\n",
    "# Random Forest parameters\n",
    "rf_params = {\n",
    "    'n_estimators': 30,\n",
    "    'max_depth': 12,\n",
    "    'min_samples_leaf': 2,\n",
    "    'min_samples_split' : 15,\n",
    "    'random_state' : 0,\n",
    "    'criterion' : 'entropy',\n",
    "    'max_features' : 'auto'\n",
    "}\n",
    "\n",
    "# Extra Trees Parameters\n",
    "et_params = {\n",
    "    'n_jobs': -1,\n",
    "    'n_estimators': 14,\n",
    "    'max_features': 'auto',\n",
    "    'random_state' : 0,    \n",
    "    'max_depth': 12,\n",
    "    'min_samples_leaf': 2,\n",
    "    'min_samples_split' : 10,\n",
    "    'criterion': 'entropy'\n",
    "}\n",
    "\n",
    "# AdaBoost parameters\n",
    "ada_params = {\n",
    "    'n_estimators': 12,\n",
    "    'learning_rate' : 0.4\n",
    "}\n",
    "\n",
    "# Gradient Boosting parameters\n",
    "gb_params = {\n",
    "    'n_estimators': 150,\n",
    "    'max_depth': 4,\n",
    "    'learning_rate': 0.05,\n",
    "    'criterion' : 'mse',\n",
    "    'loss' : 'exponential'\n",
    "}\n",
    "\n",
    "# Support Vector Classifier parameters \n",
    "svc_params = {\n",
    "    'kernel' : 'rbf',\n",
    "    'gamma' : 0.125,\n",
    "    'C' : 5\n",
    "    }\n",
    "\n",
    "# LogisticRegressionCV parameters \n",
    "lr_params = {\n",
    "    'solver' : 'newton-cg',\n",
    "    'penalty' : 'l2',\n",
    "    'Cs' : 10\n",
    "    }\n",
    "\n",
    "# K Neighbours Classifier parameters \n",
    "kn_params = {\n",
    "    'n_neighbors' : 21\n",
    "    }"
   ]
  },
  {
   "cell_type": "code",
   "execution_count": null,
   "metadata": {},
   "outputs": [],
   "source": [
    "# Create objects that represent our models\n",
    "rf = SklearnHelper(clf=RandomForestClassifier, params=rf_params)\n",
    "et = SklearnHelper(clf=ExtraTreesClassifier, params=et_params)\n",
    "ada = SklearnHelper(clf=AdaBoostClassifier, params=ada_params)\n",
    "gb = SklearnHelper(clf=GradientBoostingClassifier, params=gb_params)\n",
    "svc = SklearnHelper(clf=SVC, params=svc_params)\n",
    "kn = SklearnHelper(clf=KNeighborsClassifier, params=kn_params)\n",
    "lr = SklearnHelper(clf=LogisticRegressionCV, params=lr_params)"
   ]
  },
  {
   "cell_type": "code",
   "execution_count": null,
   "metadata": {},
   "outputs": [],
   "source": [
    "# Create Numpy arrays of train, test and target dataframes to feed into our models\n",
    "y_train = train['Transported'].ravel()\n",
    "x_train = train[x_bin].values # Creates an array of the train data\n",
    "x_test = test[x_bin].values # Creats an array of the test data"
   ]
  },
  {
   "cell_type": "code",
   "execution_count": null,
   "metadata": {},
   "outputs": [],
   "source": [
    "# Create our OOF train and test predictions. These base results will be used as new features\n",
    "et_oof_train, et_oof_test = get_oof(et, x_train, y_train, x_test) # Extra Trees\n",
    "rf_oof_train, rf_oof_test = get_oof(rf,x_train, y_train, x_test) # Random Forest\n",
    "ada_oof_train, ada_oof_test = get_oof(ada, x_train, y_train, x_test) # AdaBoost \n",
    "gb_oof_train, gb_oof_test = get_oof(gb,x_train, y_train, x_test) # Gradient Boost\n",
    "svc_oof_train, svc_oof_test = get_oof(svc,x_train, y_train, x_test) # Support Vector Classifier\n",
    "kn_oof_train, kn_oof_test = get_oof(kn,x_train, y_train, x_test) # K Neighbours Classifier\n",
    "lr_oof_train, lr_oof_test = get_oof(lr,x_train, y_train, x_test) # Support Vector Classifier\n",
    "\n",
    "print(\"Training is complete\")"
   ]
  },
  {
   "cell_type": "code",
   "execution_count": null,
   "metadata": {},
   "outputs": [],
   "source": [
    "#calculate feature importances\n",
    "rf_feature = rf.feature_importances(x_train,y_train)\n",
    "#et_feature = et.feature_importances(x_train, y_train)\n",
    "ada_feature = ada.feature_importances(x_train, y_train)\n",
    "gb_feature = gb.feature_importances(x_train,y_train)"
   ]
  },
  {
   "cell_type": "code",
   "execution_count": null,
   "metadata": {},
   "outputs": [],
   "source": [
    "#'SVC' and 'KNN' and 'LR' object has no attribute 'feature_importances_' so cant do this for it\n",
    "rf_features = [0.08149851, 0.12141756, 0.0263793,  0.03566973, 0.0617103,  0.06694308, 0.04148718, 0.10507952, 0.10221604, 0.22752182, 0.13007695]\n",
    "#et_features = [0.10643321, 0.21578448, 0.02627657, 0.02819634, 0.00356097, 0.10891651, 0.04835752, 0.04423012, 0.11609769, 0.09899834, 0.1021764,  0.01659244, 0.08437942]\n",
    "ada_features = [0.16666667, 0.08333333, 0, 0, 0.16666667, 0, 0, 0.25, 0.16666667, 0.08333333, 0.08333333]\n",
    "gb_features = [0.03516087, 0.05529047, 0.01330023, 0.01630864, 0.04191415, 0.07767739, 0.04371369, 0.07383201, 0.07372111, 0.45403183, 0.11504961]"
   ]
  },
  {
   "cell_type": "code",
   "execution_count": null,
   "metadata": {},
   "outputs": [],
   "source": [
    "# Create a dataframe with features\n",
    "feature_dataframe = pd.DataFrame( {'features': x_bin,\n",
    "     'Random Forest feature importances': rf_features,\n",
    "     #'Extra Trees  feature importances': et_features,\n",
    "     'AdaBoost feature importances': ada_features,\n",
    "     'Gradient Boost feature importances': gb_features\n",
    "    })"
   ]
  },
  {
   "cell_type": "code",
   "execution_count": null,
   "metadata": {},
   "outputs": [],
   "source": [
    "# Scatter plot of feature importances\n",
    "trace = go.Scatter(\n",
    "    y = feature_dataframe['Random Forest feature importances'].values,\n",
    "    x = feature_dataframe['features'].values,\n",
    "    mode='markers',\n",
    "    marker=dict(\n",
    "        sizemode = 'diameter',\n",
    "        sizeref = 1,\n",
    "        size = 25,\n",
    "#       size= feature_dataframe['AdaBoost feature importances'].values,\n",
    "        #color = np.random.randn(500), #set color equal to a variable\n",
    "        color = feature_dataframe['Random Forest feature importances'].values,\n",
    "        colorscale='Portland',\n",
    "        showscale=True\n",
    "    ),\n",
    "    text = feature_dataframe['features'].values\n",
    ")\n",
    "data = [trace]\n",
    "\n",
    "layout= go.Layout(\n",
    "    autosize= True,\n",
    "    title= 'Random Forest Feature Importance',\n",
    "    hovermode= 'closest',\n",
    "#     xaxis= dict(\n",
    "#         title= 'Pop',\n",
    "#         ticklen= 5,\n",
    "#         zeroline= False,\n",
    "#         gridwidth= 2,\n",
    "#     ),\n",
    "    yaxis=dict(\n",
    "        title= 'Feature Importance',\n",
    "        ticklen= 5,\n",
    "        gridwidth= 2\n",
    "    ),\n",
    "    showlegend= False\n",
    ")\n",
    "fig = go.Figure(data=data, layout=layout)\n",
    "py.iplot(fig,filename='scatter2010')"
   ]
  },
  {
   "cell_type": "code",
   "execution_count": null,
   "metadata": {},
   "outputs": [],
   "source": [
    "# Scatter plot \n",
    "trace = go.Scatter(\n",
    "    y = feature_dataframe['AdaBoost feature importances'].values,\n",
    "    x = feature_dataframe['features'].values,\n",
    "    mode='markers',\n",
    "    marker=dict(\n",
    "        sizemode = 'diameter',\n",
    "        sizeref = 1,\n",
    "        size = 25,\n",
    "#       size= feature_dataframe['AdaBoost feature importances'].values,\n",
    "        #color = np.random.randn(500), #set color equal to a variable\n",
    "        color = feature_dataframe['AdaBoost feature importances'].values,\n",
    "        colorscale='Portland',\n",
    "        showscale=True\n",
    "    ),\n",
    "    text = feature_dataframe['features'].values\n",
    ")\n",
    "data = [trace]\n",
    "\n",
    "layout= go.Layout(\n",
    "    autosize= True,\n",
    "    title= 'AdaBoost Feature Importance',\n",
    "    hovermode= 'closest',\n",
    "#     xaxis= dict(\n",
    "#         title= 'Pop',\n",
    "#         ticklen= 5,\n",
    "#         zeroline= False,\n",
    "#         gridwidth= 2,\n",
    "#     ),\n",
    "    yaxis=dict(\n",
    "        title= 'Feature Importance',\n",
    "        ticklen= 5,\n",
    "        gridwidth= 2\n",
    "    ),\n",
    "    showlegend= False\n",
    ")\n",
    "fig = go.Figure(data=data, layout=layout)\n",
    "py.iplot(fig,filename='scatter2010')"
   ]
  },
  {
   "cell_type": "code",
   "execution_count": null,
   "metadata": {},
   "outputs": [],
   "source": [
    "# Scatter plot \n",
    "trace = go.Scatter(\n",
    "    y = feature_dataframe['Gradient Boost feature importances'].values,\n",
    "    x = feature_dataframe['features'].values,\n",
    "    mode='markers',\n",
    "    marker=dict(\n",
    "        sizemode = 'diameter',\n",
    "        sizeref = 1,\n",
    "        size = 25,\n",
    "#       size= feature_dataframe['AdaBoost feature importances'].values,\n",
    "        #color = np.random.randn(500), #set color equal to a variable\n",
    "        color = feature_dataframe['Gradient Boost feature importances'].values,\n",
    "        colorscale='Portland',\n",
    "        showscale=True\n",
    "    ),\n",
    "    text = feature_dataframe['features'].values\n",
    ")\n",
    "data = [trace]\n",
    "\n",
    "layout= go.Layout(\n",
    "    autosize= True,\n",
    "    title= 'Gradient Boosting Feature Importance',\n",
    "    hovermode= 'closest',\n",
    "#     xaxis= dict(\n",
    "#         title= 'Pop',\n",
    "#         ticklen= 5,\n",
    "#         zeroline= False,\n",
    "#         gridwidth= 2,\n",
    "#     ),\n",
    "    yaxis=dict(\n",
    "        title= 'Feature Importance',\n",
    "        ticklen= 5,\n",
    "        gridwidth= 2\n",
    "    ),\n",
    "    showlegend= False\n",
    ")\n",
    "fig = go.Figure(data=data, layout=layout)\n",
    "py.iplot(fig,filename='scatter2010')"
   ]
  },
  {
   "cell_type": "code",
   "execution_count": null,
   "metadata": {},
   "outputs": [],
   "source": [
    "# Create the new column containing the average of values\n",
    "feature_dataframe['mean'] = feature_dataframe.mean(axis= 1) # axis = 1 computes the mean row-wise\n",
    "feature_dataframe.head(3)"
   ]
  },
  {
   "cell_type": "code",
   "execution_count": null,
   "metadata": {},
   "outputs": [],
   "source": [
    "#a plot of the average feature importances across the models\n",
    "y = feature_dataframe['mean'].values\n",
    "x = feature_dataframe['features'].values\n",
    "data = [go.Bar(\n",
    "            x= x,\n",
    "             y= y,\n",
    "            width = 0.5,\n",
    "            marker=dict(\n",
    "               color = feature_dataframe['mean'].values,\n",
    "            colorscale='Portland',\n",
    "            showscale=True,\n",
    "            reversescale = False\n",
    "            ),\n",
    "            opacity=0.6\n",
    "        )]\n",
    "\n",
    "layout= go.Layout(\n",
    "    autosize= True,\n",
    "    title= 'Barplots of Mean Feature Importance',\n",
    "    hovermode= 'closest',\n",
    "#     xaxis= dict(\n",
    "#         title= 'Pop',\n",
    "#         ticklen= 5,\n",
    "#         zeroline= False,\n",
    "#         gridwidth= 2,\n",
    "#     ),\n",
    "    yaxis=dict(\n",
    "        title= 'Feature Importance',\n",
    "        ticklen= 5,\n",
    "        gridwidth= 2\n",
    "    ),\n",
    "    showlegend= False\n",
    ")\n",
    "fig = go.Figure(data=data, layout=layout)\n",
    "py.iplot(fig, filename='bar-direct-labels')"
   ]
  },
  {
   "cell_type": "code",
   "execution_count": null,
   "metadata": {},
   "outputs": [],
   "source": [
    "#create base predictions\n",
    "base_predictions_train = pd.DataFrame( {'RandomForest': rf_oof_train.ravel(),\n",
    "     #'ExtraTrees': et_oof_train.ravel(),\n",
    "     'AdaBoost': ada_oof_train.ravel(),\n",
    "     'GradientBoost': gb_oof_train.ravel(),\n",
    "     'SVC': svc_oof_train.ravel(),\n",
    "     'KNeighbours': kn_oof_train.ravel(),\n",
    "     'LogisticRegression': lr_oof_train.ravel()\n",
    "    })\n",
    "base_predictions_train.head()"
   ]
  },
  {
   "cell_type": "code",
   "execution_count": null,
   "metadata": {},
   "outputs": [],
   "source": [
    "#plot correlation between the models\n",
    "data = [\n",
    "    go.Heatmap(\n",
    "        z= base_predictions_train.astype(float).corr().values ,\n",
    "        x=base_predictions_train.columns.values,\n",
    "        y= base_predictions_train.columns.values,\n",
    "          colorscale='Viridis',\n",
    "            showscale=True,\n",
    "            reversescale = True\n",
    "    )\n",
    "]\n",
    "py.iplot(data, filename='labelled-heatmap')"
   ]
  },
  {
   "cell_type": "code",
   "execution_count": null,
   "metadata": {},
   "outputs": [],
   "source": [
    "#create new train and test sets with the guesses from our ensemble\n",
    "x_train_ensemble = np.concatenate(( lr_oof_train, rf_oof_train, ada_oof_train, gb_oof_train, svc_oof_train, kn_oof_train), axis=1)\n",
    "x_test_ensemble = np.concatenate(( lr_oof_test, rf_oof_test, ada_oof_test, gb_oof_test, svc_oof_test, kn_oof_test), axis=1)"
   ]
  },
  {
   "cell_type": "markdown",
   "metadata": {},
   "source": [
    "### Tune Hyperparameters for XGBoost"
   ]
  },
  {
   "cell_type": "code",
   "execution_count": null,
   "metadata": {},
   "outputs": [],
   "source": [
    "X_training_ensemble, X_val_ensemble, y_training, y_val = train_test_split(x_train_ensemble, y_train, test_size=0.3, random_state=42)"
   ]
  },
  {
   "cell_type": "code",
   "execution_count": null,
   "metadata": {},
   "outputs": [],
   "source": [
    "#function to explore individual hyperparameters so that final param grid can be more finely tuned to save computation time\n",
    "def explore_XGB_hyperparameters(hyperparameter, hyperparameter_values, scoring='accuracy'):\n",
    "\n",
    "    param_grid = [{hyperparameter: hyperparameter_value} for hyperparameter_value in hyperparameter_values]\n",
    "    score_training_data = []\n",
    "    score_val_data = []\n",
    "\n",
    "    for i, _ in enumerate(hyperparameter_values):\n",
    "        clf = XGBClassifier(random_state=0, **param_grid[i])\n",
    "        clf.fit(X_training_ensemble, y_training)\n",
    "        scorer = metrics.get_scorer(scoring)\n",
    "        score_training_data.append(scorer(clf, X_training_ensemble, y_training))\n",
    "        score_val_data.append(scorer(clf, X_val_ensemble, y_val))\n",
    "\n",
    "    plt.plot(hyperparameter_values, score_training_data)\n",
    "    plt.plot(hyperparameter_values, score_val_data)\n",
    "    plt.legend(['Training Data', 'Validation Data'])\n",
    "    plt.xlabel('Hyperparameter Value')\n",
    "    plt.ylabel('Score')\n",
    "    plt.show()\n",
    "\n",
    "#varying gamma \n",
    "explore_XGB_hyperparameters(\n",
    "    hyperparameter=\"gamma\",\n",
    "    hyperparameter_values = [0.1,1,10,20,50,100]\n",
    ")"
   ]
  },
  {
   "cell_type": "code",
   "execution_count": null,
   "metadata": {},
   "outputs": [],
   "source": [
    "#varying max depth \n",
    "explore_XGB_hyperparameters(\n",
    "    hyperparameter=\"max_depth\",\n",
    "    hyperparameter_values = [1,10,20,50]\n",
    ")"
   ]
  },
  {
   "cell_type": "code",
   "execution_count": null,
   "metadata": {},
   "outputs": [],
   "source": [
    "#varying reg_alpa \n",
    "explore_XGB_hyperparameters(\n",
    "    hyperparameter=\"reg_alpha\",\n",
    "    hyperparameter_values = [1,10,20,50,100]\n",
    ")"
   ]
  },
  {
   "cell_type": "code",
   "execution_count": null,
   "metadata": {},
   "outputs": [],
   "source": [
    "#varying colsample_bytree \n",
    "explore_XGB_hyperparameters(\n",
    "    hyperparameter=\"colsample_bytree\",\n",
    "    hyperparameter_values = [0,0.1,0.5,1]\n",
    ")"
   ]
  },
  {
   "cell_type": "code",
   "execution_count": null,
   "metadata": {},
   "outputs": [],
   "source": [
    "#varying min_child_weight \n",
    "explore_XGB_hyperparameters(\n",
    "    hyperparameter=\"min_child_weight\",\n",
    "    hyperparameter_values = [0,5,10,20,35,50,100]\n",
    ")"
   ]
  },
  {
   "cell_type": "code",
   "execution_count": null,
   "metadata": {},
   "outputs": [],
   "source": [
    "#varying n_estimators \n",
    "explore_XGB_hyperparameters(\n",
    "    hyperparameter=\"n_estimators\",\n",
    "    hyperparameter_values = [5,10,20,50,100]\n",
    ")"
   ]
  },
  {
   "cell_type": "code",
   "execution_count": null,
   "metadata": {},
   "outputs": [],
   "source": [
    "#varying learning_rate \n",
    "explore_XGB_hyperparameters(\n",
    "    hyperparameter=\"learning_rate\",\n",
    "    hyperparameter_values = [0,0.001,0.01,0.03,0.05,0.1,0.15,0.2,1]\n",
    ")"
   ]
  },
  {
   "cell_type": "code",
   "execution_count": null,
   "metadata": {},
   "outputs": [],
   "source": [
    "#varying subsample \n",
    "explore_XGB_hyperparameters(\n",
    "    hyperparameter=\"subsample\",\n",
    "    hyperparameter_values = [0,0.005,0.05, 0.1,0.3,0.5,0.7,1]\n",
    ")"
   ]
  },
  {
   "cell_type": "code",
   "execution_count": null,
   "metadata": {},
   "outputs": [],
   "source": [
    "#create hyperparameter space for the values during tuning to be selected from\n",
    "space={'max_depth': hp.quniform(\"max_depth\", 1, 10, 1),\n",
    "        'gamma': hp.uniform ('gamma', 20,80),\n",
    "        'reg_alpha' : hp.quniform('reg_alpha', 1,50,1),\n",
    "        'reg_lambda' : hp.uniform('reg_lambda', 0,1),\n",
    "        'colsample_bytree' : hp.uniform('colsample_bytree', 0,0.5),\n",
    "        'min_child_weight' : hp.quniform('min_child_weight', 15, 60, 1),\n",
    "        'n_estimators': hp.quniform('n_estimators', 20, 50, 1),\n",
    "        'learning_rate': hp.uniform('learning_rate', 0, 1),\n",
    "        'subsample' : hp.uniform('subsample', 0,1),\n",
    "        'seed': 0\n",
    "    }"
   ]
  },
  {
   "cell_type": "code",
   "execution_count": null,
   "metadata": {},
   "outputs": [],
   "source": [
    "#function to run XGBClassifier with hyperparameter values from 'space' and report the accuracy\n",
    "def objective(space):\n",
    "    clf=xgb.XGBClassifier(\n",
    "                    n_estimators =int(space['n_estimators']), max_depth = int(space['max_depth']), gamma = space['gamma'],\n",
    "                    reg_alpha = int(space['reg_alpha']),min_child_weight=int(space['min_child_weight']),\n",
    "                    colsample_bytree=int(space['colsample_bytree']))\n",
    "    \n",
    "    evaluation = [( X_training_ensemble, y_training), ( X_val_ensemble, y_val)]\n",
    "    \n",
    "    clf.fit(X_training_ensemble, y_training,\n",
    "            eval_set=evaluation, eval_metric=\"auc\",\n",
    "            early_stopping_rounds=10,verbose=False)\n",
    "    \n",
    "\n",
    "    pred = clf.predict(X_val_ensemble)\n",
    "    accuracy = accuracy_score(y_val, pred>0.5)\n",
    "    print (accuracy)\n",
    "    return {'loss': -accuracy, 'status': STATUS_OK }"
   ]
  },
  {
   "cell_type": "code",
   "execution_count": null,
   "metadata": {},
   "outputs": [],
   "source": [
    "#run a large number of trials constantly varying the hyperparameters and record the best\n",
    "trials = Trials()\n",
    "\n",
    "best_hyperparams = fmin(fn = objective,\n",
    "                        space = space,\n",
    "                        algo = tpe.suggest,\n",
    "                        max_evals = 300,\n",
    "                        trials = trials)\n",
    "\n",
    "print(\"The best hyperparameters are : \",\"\\n\")\n",
    "print(best_hyperparams)"
   ]
  },
  {
   "cell_type": "markdown",
   "metadata": {},
   "source": [
    "### Submit Result"
   ]
  },
  {
   "cell_type": "code",
   "execution_count": null,
   "metadata": {},
   "outputs": [],
   "source": [
    "#ensemble stacking method\n",
    "gbm = xgb.XGBClassifier(\n",
    " learning_rate = 0.21281278494916178,\n",
    " n_estimators= 35,\n",
    " max_depth= 3,\n",
    " min_child_weight= 40,\n",
    " gamma=67.88907727191975,                        \n",
    " subsample=0.2578100761390425,\n",
    " colsample_bytree=0.28157458518226625,\n",
    " #objective= 'binary:logistic',\n",
    " nthread= -1,\n",
    " reg_alpha=19,\n",
    " reg_lambda=0.6944927032686287\n",
    " #scale_pos_weight=1\n",
    ").fit(x_train_ensemble, y_train)\n",
    "predictions = gbm.predict(x_test_ensemble)"
   ]
  },
  {
   "cell_type": "code",
   "execution_count": null,
   "metadata": {},
   "outputs": [],
   "source": [
    "#Generate Submission File \n",
    "Submission = pd.DataFrame({ 'PassengerId': test.PassengerId,'Transported': predictions })\n",
    "Submission.to_csv(\"submission.csv\", index=False)"
   ]
  }
 ],
 "metadata": {
  "kernelspec": {
   "display_name": "Python 3",
   "language": "python",
   "name": "python3"
  },
  "language_info": {
   "codemirror_mode": {
    "name": "ipython",
    "version": 3
   },
   "file_extension": ".py",
   "mimetype": "text/x-python",
   "name": "python",
   "nbconvert_exporter": "python",
   "pygments_lexer": "ipython3",
   "version": "3.7.0"
  }
 },
 "nbformat": 4,
 "nbformat_minor": 2
}
